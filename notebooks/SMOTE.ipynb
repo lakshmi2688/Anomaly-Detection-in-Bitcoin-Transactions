{
  "nbformat": 4,
  "nbformat_minor": 0,
  "metadata": {
    "kernelspec": {
      "display_name": "Python 3",
      "language": "python",
      "name": "python3"
    },
    "language_info": {
      "codemirror_mode": {
        "name": "ipython",
        "version": 3
      },
      "file_extension": ".py",
      "mimetype": "text/x-python",
      "name": "python",
      "nbconvert_exporter": "python",
      "pygments_lexer": "ipython3",
      "version": "3.8.3"
    },
    "colab": {
      "name": "SMOTE.ipynb",
      "provenance": [],
      "collapsed_sections": [
        "BwzFWVptKL6Y",
        "u5qmWQFUgCt-",
        "rwEH6VQNfoR8",
        "ilS5ISF6gCuG",
        "r1BNYqCDv0AN",
        "vZEnxudZhlwv",
        "Xq8oELUa_4ZE"
      ]
    }
  },
  "cells": [
    {
      "cell_type": "markdown",
      "metadata": {
        "id": "BwzFWVptKL6Y"
      },
      "source": [
        "## Setup"
      ]
    },
    {
      "cell_type": "code",
      "metadata": {
        "id": "yLvmTw6NgCtN"
      },
      "source": [
        "import torch\n",
        "import numpy as np\n",
        "import os, sys, time \n",
        "import pandas as pd\n",
        "import zipfile, tarfile, requests  # TODO: Ensure package requests is installed\n",
        "\n",
        "import matplotlib.pyplot as plt"
      ],
      "execution_count": 63,
      "outputs": []
    },
    {
      "cell_type": "code",
      "metadata": {
        "id": "LU9e-qzwgCtl"
      },
      "source": [
        "from sklearn.preprocessing import LabelEncoder\n",
        "from sklearn.preprocessing import StandardScaler\n",
        "from sklearn.metrics import *\n",
        "from patsy import dmatrices\n",
        "from sklearn import preprocessing\n",
        "from sklearn.preprocessing import StandardScaler, normalize\n",
        "\n",
        "# packages required for k-means and PCA\n",
        "from sklearn.cluster import KMeans\n",
        "from sklearn.decomposition import PCA"
      ],
      "execution_count": 64,
      "outputs": []
    },
    {
      "cell_type": "code",
      "metadata": {
        "id": "1QEFPVUygCtn"
      },
      "source": [
        "# packages required for proecessing zip files\n",
        "from io import BytesIO\n",
        "from urllib.request import urlopen\n",
        "from zipfile import ZipFile\n",
        "\n",
        "# packages for plots and graphs\n",
        "import seaborn as sns\n",
        "import matplotlib.pyplot as plt\n",
        "\n",
        "%matplotlib inline\n",
        "\n",
        "import requests, zipfile"
      ],
      "execution_count": 65,
      "outputs": []
    },
    {
      "cell_type": "code",
      "metadata": {
        "id": "K2F0uDEbgCto",
        "colab": {
          "base_uri": "https://localhost:8080/"
        },
        "outputId": "4daa4a62-5b4a-4555-82b5-9b5067708cf7"
      },
      "source": [
        "!pip install kaggle"
      ],
      "execution_count": 66,
      "outputs": [
        {
          "output_type": "stream",
          "text": [
            "Requirement already satisfied: kaggle in /usr/local/lib/python3.7/dist-packages (1.5.12)\n",
            "Requirement already satisfied: certifi in /usr/local/lib/python3.7/dist-packages (from kaggle) (2020.12.5)\n",
            "Requirement already satisfied: six>=1.10 in /usr/local/lib/python3.7/dist-packages (from kaggle) (1.15.0)\n",
            "Requirement already satisfied: urllib3 in /usr/local/lib/python3.7/dist-packages (from kaggle) (1.24.3)\n",
            "Requirement already satisfied: tqdm in /usr/local/lib/python3.7/dist-packages (from kaggle) (4.41.1)\n",
            "Requirement already satisfied: python-dateutil in /usr/local/lib/python3.7/dist-packages (from kaggle) (2.8.1)\n",
            "Requirement already satisfied: python-slugify in /usr/local/lib/python3.7/dist-packages (from kaggle) (5.0.2)\n",
            "Requirement already satisfied: requests in /usr/local/lib/python3.7/dist-packages (from kaggle) (2.23.0)\n",
            "Requirement already satisfied: text-unidecode>=1.3 in /usr/local/lib/python3.7/dist-packages (from python-slugify->kaggle) (1.3)\n",
            "Requirement already satisfied: chardet<4,>=3.0.2 in /usr/local/lib/python3.7/dist-packages (from requests->kaggle) (3.0.4)\n",
            "Requirement already satisfied: idna<3,>=2.5 in /usr/local/lib/python3.7/dist-packages (from requests->kaggle) (2.10)\n"
          ],
          "name": "stdout"
        }
      ]
    },
    {
      "cell_type": "code",
      "metadata": {
        "id": "056S-OZcgCtp",
        "colab": {
          "base_uri": "https://localhost:8080/"
        },
        "outputId": "29340a83-4b62-43ab-f5d4-8517fbd98b4c"
      },
      "source": [
        "!cp kaggle.json ~/.kaggle/\n",
        "!chmod 600 /root/.kaggle/kaggle.json\n",
        "!kaggle datasets download ellipticco/elliptic-data-set"
      ],
      "execution_count": 67,
      "outputs": [
        {
          "output_type": "stream",
          "text": [
            "elliptic-data-set.zip: Skipping, found more recently modified local copy (use --force to force download)\n"
          ],
          "name": "stdout"
        }
      ]
    },
    {
      "cell_type": "code",
      "metadata": {
        "id": "0O7ZEgQfgCtq"
      },
      "source": [
        "def getData():\n",
        "    with ZipFile(\"elliptic-data-set.zip\") as zfile:\n",
        "        df_node_transactions = pd.read_csv(zfile.open('elliptic_bitcoin_dataset/elliptic_txs_classes.csv'))\n",
        "        df_edge_payments = pd.read_csv(zfile.open('elliptic_bitcoin_dataset/elliptic_txs_edgelist.csv'))\n",
        "        df_features = pd.read_csv(zfile.open('elliptic_bitcoin_dataset/elliptic_txs_features.csv'))\n",
        "    return df_node_transactions,df_edge_payments,df_features"
      ],
      "execution_count": 68,
      "outputs": []
    },
    {
      "cell_type": "markdown",
      "metadata": {
        "id": "BSAdBGgvgCtq"
      },
      "source": [
        "The dataset consists of 203,769 transactions, of which 21% are\n",
        "labeled as licit, and 2% as illicit, based on the category of the bitcoin\n",
        "address that created the transaction. The remaining transactions\n",
        "are unlabeled. Illicit categories include scams, malware, terrorist organizations, and Ponzi schemes. Licit categories include exchanges,\n",
        "wallet providers, miners, and licit services. Each transaction has 166\n",
        "features, 94 of which represent information about the transaction\n",
        "itself. The remaining features were constructed \n",
        "using information one-hop backward/forward from the transaction,\n",
        "such as the minimum, maximum, and standard deviation of each\n",
        "transaction feature. All features, except for the time-step, are fully\n",
        "anonymized and standardized with zero mean and unit variance."
      ]
    },
    {
      "cell_type": "code",
      "metadata": {
        "id": "lQQkgpqzgCtr"
      },
      "source": [
        "df_node_transactions,df_edge_payments,df_features = getData()"
      ],
      "execution_count": 69,
      "outputs": []
    },
    {
      "cell_type": "markdown",
      "metadata": {
        "id": "WFnS8MumgCts"
      },
      "source": [
        "Nodes and Edges. There are 203,769 node transactions and\n",
        "234,355 directed edge payments flows. "
      ]
    },
    {
      "cell_type": "code",
      "metadata": {
        "id": "bgY98DKdgCtt",
        "colab": {
          "base_uri": "https://localhost:8080/",
          "height": 224
        },
        "outputId": "9a2ed334-38f5-49a4-f751-dd94717729c6"
      },
      "source": [
        "df_node_transactions.head()"
      ],
      "execution_count": 70,
      "outputs": [
        {
          "output_type": "execute_result",
          "data": {
            "text/html": [
              "<div>\n",
              "<style scoped>\n",
              "    .dataframe tbody tr th:only-of-type {\n",
              "        vertical-align: middle;\n",
              "    }\n",
              "\n",
              "    .dataframe tbody tr th {\n",
              "        vertical-align: top;\n",
              "    }\n",
              "\n",
              "    .dataframe thead th {\n",
              "        text-align: right;\n",
              "    }\n",
              "</style>\n",
              "<table border=\"1\" class=\"dataframe\">\n",
              "  <thead>\n",
              "    <tr style=\"text-align: right;\">\n",
              "      <th></th>\n",
              "      <th>txId</th>\n",
              "      <th>class</th>\n",
              "    </tr>\n",
              "  </thead>\n",
              "  <tbody>\n",
              "    <tr>\n",
              "      <th>0</th>\n",
              "      <td>230425980</td>\n",
              "      <td>unknown</td>\n",
              "    </tr>\n",
              "    <tr>\n",
              "      <th>1</th>\n",
              "      <td>5530458</td>\n",
              "      <td>unknown</td>\n",
              "    </tr>\n",
              "    <tr>\n",
              "      <th>2</th>\n",
              "      <td>232022460</td>\n",
              "      <td>unknown</td>\n",
              "    </tr>\n",
              "    <tr>\n",
              "      <th>3</th>\n",
              "      <td>232438397</td>\n",
              "      <td>2</td>\n",
              "    </tr>\n",
              "    <tr>\n",
              "      <th>4</th>\n",
              "      <td>230460314</td>\n",
              "      <td>unknown</td>\n",
              "    </tr>\n",
              "  </tbody>\n",
              "</table>\n",
              "</div>"
            ],
            "text/plain": [
              "        txId    class\n",
              "0  230425980  unknown\n",
              "1    5530458  unknown\n",
              "2  232022460  unknown\n",
              "3  232438397        2\n",
              "4  230460314  unknown"
            ]
          },
          "metadata": {
            "tags": []
          },
          "execution_count": 70
        }
      ]
    },
    {
      "cell_type": "code",
      "metadata": {
        "id": "7ephJMXbgCtv",
        "colab": {
          "base_uri": "https://localhost:8080/",
          "height": 224
        },
        "outputId": "127c9753-a92a-4a11-dca6-c34181bb549a"
      },
      "source": [
        "df_edge_payments.head()"
      ],
      "execution_count": 71,
      "outputs": [
        {
          "output_type": "execute_result",
          "data": {
            "text/html": [
              "<div>\n",
              "<style scoped>\n",
              "    .dataframe tbody tr th:only-of-type {\n",
              "        vertical-align: middle;\n",
              "    }\n",
              "\n",
              "    .dataframe tbody tr th {\n",
              "        vertical-align: top;\n",
              "    }\n",
              "\n",
              "    .dataframe thead th {\n",
              "        text-align: right;\n",
              "    }\n",
              "</style>\n",
              "<table border=\"1\" class=\"dataframe\">\n",
              "  <thead>\n",
              "    <tr style=\"text-align: right;\">\n",
              "      <th></th>\n",
              "      <th>txId1</th>\n",
              "      <th>txId2</th>\n",
              "    </tr>\n",
              "  </thead>\n",
              "  <tbody>\n",
              "    <tr>\n",
              "      <th>0</th>\n",
              "      <td>230425980</td>\n",
              "      <td>5530458</td>\n",
              "    </tr>\n",
              "    <tr>\n",
              "      <th>1</th>\n",
              "      <td>232022460</td>\n",
              "      <td>232438397</td>\n",
              "    </tr>\n",
              "    <tr>\n",
              "      <th>2</th>\n",
              "      <td>230460314</td>\n",
              "      <td>230459870</td>\n",
              "    </tr>\n",
              "    <tr>\n",
              "      <th>3</th>\n",
              "      <td>230333930</td>\n",
              "      <td>230595899</td>\n",
              "    </tr>\n",
              "    <tr>\n",
              "      <th>4</th>\n",
              "      <td>232013274</td>\n",
              "      <td>232029206</td>\n",
              "    </tr>\n",
              "  </tbody>\n",
              "</table>\n",
              "</div>"
            ],
            "text/plain": [
              "       txId1      txId2\n",
              "0  230425980    5530458\n",
              "1  232022460  232438397\n",
              "2  230460314  230459870\n",
              "3  230333930  230595899\n",
              "4  232013274  232029206"
            ]
          },
          "metadata": {
            "tags": []
          },
          "execution_count": 71
        }
      ]
    },
    {
      "cell_type": "markdown",
      "metadata": {
        "id": "Mbtolx-DgCtw"
      },
      "source": [
        "Features. Each node has associated 166 features. The first 94\n",
        "features represent local information about the transaction – including the time step, number of inputs/outputs, transaction fee, output\n",
        "volume and aggregated figures such as average BTC received (spent)\n",
        "by the inputs/outputs and average number of incoming (outgoing)\n",
        "transactions associated with the inputs/outputs. The remaining 72\n",
        "features, called aggregated features, are obtained by aggregating\n",
        "transaction information one-hop backward/forward from the center node - giving the maximum, minimum, standard deviation and\n",
        "correlation coefficients of the neighbour transactions for the same\n",
        "information data (number of inputs/outputs, transaction fee, etc.)."
      ]
    },
    {
      "cell_type": "code",
      "metadata": {
        "id": "mU3lyTXNgCtw",
        "colab": {
          "base_uri": "https://localhost:8080/",
          "height": 321
        },
        "outputId": "3f5a4810-cf90-4389-aa7e-fe7b998df701"
      },
      "source": [
        "df_features.head()"
      ],
      "execution_count": 72,
      "outputs": [
        {
          "output_type": "execute_result",
          "data": {
            "text/html": [
              "<div>\n",
              "<style scoped>\n",
              "    .dataframe tbody tr th:only-of-type {\n",
              "        vertical-align: middle;\n",
              "    }\n",
              "\n",
              "    .dataframe tbody tr th {\n",
              "        vertical-align: top;\n",
              "    }\n",
              "\n",
              "    .dataframe thead th {\n",
              "        text-align: right;\n",
              "    }\n",
              "</style>\n",
              "<table border=\"1\" class=\"dataframe\">\n",
              "  <thead>\n",
              "    <tr style=\"text-align: right;\">\n",
              "      <th></th>\n",
              "      <th>230425980</th>\n",
              "      <th>1</th>\n",
              "      <th>-0.1714692896288031</th>\n",
              "      <th>-0.18466755143291433</th>\n",
              "      <th>-1.2013688016765636</th>\n",
              "      <th>-0.12196959975910057</th>\n",
              "      <th>-0.04387454791734898</th>\n",
              "      <th>-0.11300200928476244</th>\n",
              "      <th>-0.06158379407303222</th>\n",
              "      <th>-0.16209679981659642</th>\n",
              "      <th>-0.16793302645225652</th>\n",
              "      <th>-0.04970696439403985</th>\n",
              "      <th>-0.16440217329951</th>\n",
              "      <th>-0.028741285856664783</th>\n",
              "      <th>-0.035390552600813516</th>\n",
              "      <th>-0.042955299258028254</th>\n",
              "      <th>-0.013281614870058885</th>\n",
              "      <th>-0.057194633660791555</th>\n",
              "      <th>-0.16960915015560768</th>\n",
              "      <th>-0.17115370708833458</th>\n",
              "      <th>-0.1744725474413385</th>\n",
              "      <th>-1.3736571773938961</th>\n",
              "      <th>-1.3714598276027399</th>\n",
              "      <th>-0.13973120192279553</th>\n",
              "      <th>-0.1489118870463073</th>\n",
              "      <th>-0.08014726965335221</th>\n",
              "      <th>-0.15566142432803598</th>\n",
              "      <th>-0.010763009512837094</th>\n",
              "      <th>-0.012107451777478418</th>\n",
              "      <th>-0.13973300164963834</th>\n",
              "      <th>-0.14890718609704007</th>\n",
              "      <th>-0.08014673584659182</th>\n",
              "      <th>-0.1556613943053229</th>\n",
              "      <th>-0.0106685610738475</th>\n",
              "      <th>-0.012005182118417812</th>\n",
              "      <th>-0.02466883065625352</th>\n",
              "      <th>-0.031272390486630317</th>\n",
              "      <th>-0.0230451563960962</th>\n",
              "      <th>-0.026214655177430907</th>\n",
              "      <th>0.001427813709709475</th>\n",
              "      <th>...</th>\n",
              "      <th>-0.09771859912616487</th>\n",
              "      <th>-0.12746225048300552</th>\n",
              "      <th>0.0031432964315106413</th>\n",
              "      <th>0.0024263098865888125</th>\n",
              "      <th>-0.1209504155034722</th>\n",
              "      <th>-0.19914489882884956</th>\n",
              "      <th>-0.18799267262971858</th>\n",
              "      <th>-0.21294750674116758</th>\n",
              "      <th>1.0642045463479908</th>\n",
              "      <th>1.0637874876466933</th>\n",
              "      <th>-1.3737824923785267</th>\n",
              "      <th>-1.3547347717590499</th>\n",
              "      <th>-0.29797501416794375</th>\n",
              "      <th>-1.4036981050621322</th>\n",
              "      <th>1.342003002186918</th>\n",
              "      <th>1.3407327277377104</th>\n",
              "      <th>-0.17160149344087147</th>\n",
              "      <th>-0.4581618412195745</th>\n",
              "      <th>-0.4235879631572251</th>\n",
              "      <th>-0.44088282778065335</th>\n",
              "      <th>-1.0159633735173061</th>\n",
              "      <th>-1.0162304272806977</th>\n",
              "      <th>-0.968902874660573</th>\n",
              "      <th>-0.37571453141267186</th>\n",
              "      <th>0.759748200156594</th>\n",
              "      <th>-0.7683292540299814</th>\n",
              "      <th>1.4881129012284324</th>\n",
              "      <th>1.487932476808418</th>\n",
              "      <th>-0.21681436061843226</th>\n",
              "      <th>-0.6056310578523486</th>\n",
              "      <th>-0.5621534802884299</th>\n",
              "      <th>-0.6009988905192808</th>\n",
              "      <th>1.4613303209554889</th>\n",
              "      <th>1.4613689382001922</th>\n",
              "      <th>0.01827940003744589</th>\n",
              "      <th>-0.0874901561101501</th>\n",
              "      <th>-0.13115530389558736</th>\n",
              "      <th>-0.09752359377152515</th>\n",
              "      <th>-0.12061340670311574</th>\n",
              "      <th>-0.11979245961251665</th>\n",
              "    </tr>\n",
              "  </thead>\n",
              "  <tbody>\n",
              "    <tr>\n",
              "      <th>0</th>\n",
              "      <td>5530458</td>\n",
              "      <td>1</td>\n",
              "      <td>-0.171484</td>\n",
              "      <td>-0.184668</td>\n",
              "      <td>-1.201369</td>\n",
              "      <td>-0.121970</td>\n",
              "      <td>-0.043875</td>\n",
              "      <td>-0.113002</td>\n",
              "      <td>-0.061584</td>\n",
              "      <td>-0.162112</td>\n",
              "      <td>-0.167948</td>\n",
              "      <td>-0.049707</td>\n",
              "      <td>-0.164417</td>\n",
              "      <td>-0.028741</td>\n",
              "      <td>-0.035391</td>\n",
              "      <td>-0.042955</td>\n",
              "      <td>-0.013282</td>\n",
              "      <td>-0.055327</td>\n",
              "      <td>-0.169757</td>\n",
              "      <td>-0.171477</td>\n",
              "      <td>-0.174490</td>\n",
              "      <td>0.887058</td>\n",
              "      <td>0.884557</td>\n",
              "      <td>-0.139731</td>\n",
              "      <td>-0.148912</td>\n",
              "      <td>-0.080147</td>\n",
              "      <td>-0.155661</td>\n",
              "      <td>-0.010763</td>\n",
              "      <td>-0.012107</td>\n",
              "      <td>-0.139733</td>\n",
              "      <td>-0.148907</td>\n",
              "      <td>-0.080147</td>\n",
              "      <td>-0.155661</td>\n",
              "      <td>-0.010669</td>\n",
              "      <td>-0.012005</td>\n",
              "      <td>-0.024669</td>\n",
              "      <td>-0.031272</td>\n",
              "      <td>-0.023045</td>\n",
              "      <td>-0.026215</td>\n",
              "      <td>0.001428</td>\n",
              "      <td>...</td>\n",
              "      <td>-0.097719</td>\n",
              "      <td>-0.127462</td>\n",
              "      <td>0.003143</td>\n",
              "      <td>0.002426</td>\n",
              "      <td>-0.121330</td>\n",
              "      <td>-0.110933</td>\n",
              "      <td>-0.075909</td>\n",
              "      <td>-0.111641</td>\n",
              "      <td>-1.159649</td>\n",
              "      <td>-1.160129</td>\n",
              "      <td>-1.373723</td>\n",
              "      <td>-1.353918</td>\n",
              "      <td>-0.295982</td>\n",
              "      <td>-1.403215</td>\n",
              "      <td>-0.975738</td>\n",
              "      <td>-0.975237</td>\n",
              "      <td>-0.168742</td>\n",
              "      <td>-0.263290</td>\n",
              "      <td>-0.186389</td>\n",
              "      <td>-0.250875</td>\n",
              "      <td>-1.015963</td>\n",
              "      <td>-1.016230</td>\n",
              "      <td>-0.968903</td>\n",
              "      <td>0.146997</td>\n",
              "      <td>1.366287</td>\n",
              "      <td>-0.464773</td>\n",
              "      <td>-1.116918</td>\n",
              "      <td>-1.116948</td>\n",
              "      <td>-0.216814</td>\n",
              "      <td>0.634272</td>\n",
              "      <td>0.947382</td>\n",
              "      <td>0.673103</td>\n",
              "      <td>-0.979074</td>\n",
              "      <td>-0.978556</td>\n",
              "      <td>0.018279</td>\n",
              "      <td>-0.087490</td>\n",
              "      <td>-0.131155</td>\n",
              "      <td>-0.097524</td>\n",
              "      <td>-0.120613</td>\n",
              "      <td>-0.119792</td>\n",
              "    </tr>\n",
              "    <tr>\n",
              "      <th>1</th>\n",
              "      <td>232022460</td>\n",
              "      <td>1</td>\n",
              "      <td>-0.172107</td>\n",
              "      <td>-0.184668</td>\n",
              "      <td>-1.201369</td>\n",
              "      <td>-0.121970</td>\n",
              "      <td>-0.043875</td>\n",
              "      <td>-0.113002</td>\n",
              "      <td>-0.061584</td>\n",
              "      <td>-0.162749</td>\n",
              "      <td>-0.168576</td>\n",
              "      <td>-0.049707</td>\n",
              "      <td>-0.165054</td>\n",
              "      <td>-0.028741</td>\n",
              "      <td>-0.035391</td>\n",
              "      <td>-0.042955</td>\n",
              "      <td>-0.013282</td>\n",
              "      <td>-0.055298</td>\n",
              "      <td>-0.170400</td>\n",
              "      <td>-0.172217</td>\n",
              "      <td>-0.175227</td>\n",
              "      <td>0.887058</td>\n",
              "      <td>0.884557</td>\n",
              "      <td>-0.139729</td>\n",
              "      <td>-0.148911</td>\n",
              "      <td>-0.080147</td>\n",
              "      <td>-0.155660</td>\n",
              "      <td>-0.010763</td>\n",
              "      <td>-0.012107</td>\n",
              "      <td>-0.139731</td>\n",
              "      <td>-0.148906</td>\n",
              "      <td>-0.080147</td>\n",
              "      <td>-0.155660</td>\n",
              "      <td>-0.010669</td>\n",
              "      <td>-0.012005</td>\n",
              "      <td>-0.024669</td>\n",
              "      <td>-0.031272</td>\n",
              "      <td>-0.023045</td>\n",
              "      <td>-0.026215</td>\n",
              "      <td>0.001428</td>\n",
              "      <td>...</td>\n",
              "      <td>-0.097719</td>\n",
              "      <td>-0.129496</td>\n",
              "      <td>0.003143</td>\n",
              "      <td>0.002426</td>\n",
              "      <td>-0.122974</td>\n",
              "      <td>-0.041556</td>\n",
              "      <td>0.012549</td>\n",
              "      <td>-0.032244</td>\n",
              "      <td>-1.159649</td>\n",
              "      <td>-1.160129</td>\n",
              "      <td>-1.373902</td>\n",
              "      <td>-1.356210</td>\n",
              "      <td>-0.301548</td>\n",
              "      <td>-1.404577</td>\n",
              "      <td>-0.975738</td>\n",
              "      <td>-0.975237</td>\n",
              "      <td>-0.168742</td>\n",
              "      <td>-0.192468</td>\n",
              "      <td>-0.099790</td>\n",
              "      <td>-0.182133</td>\n",
              "      <td>-1.015963</td>\n",
              "      <td>-1.016230</td>\n",
              "      <td>-0.968903</td>\n",
              "      <td>-1.421138</td>\n",
              "      <td>-0.453330</td>\n",
              "      <td>-1.375441</td>\n",
              "      <td>-1.116918</td>\n",
              "      <td>-1.116948</td>\n",
              "      <td>-0.216814</td>\n",
              "      <td>0.407161</td>\n",
              "      <td>0.670883</td>\n",
              "      <td>0.439728</td>\n",
              "      <td>-0.979074</td>\n",
              "      <td>-0.978556</td>\n",
              "      <td>-0.098889</td>\n",
              "      <td>-0.106715</td>\n",
              "      <td>-0.131155</td>\n",
              "      <td>-0.183671</td>\n",
              "      <td>-0.120613</td>\n",
              "      <td>-0.119792</td>\n",
              "    </tr>\n",
              "    <tr>\n",
              "      <th>2</th>\n",
              "      <td>232438397</td>\n",
              "      <td>1</td>\n",
              "      <td>0.163054</td>\n",
              "      <td>1.963790</td>\n",
              "      <td>-0.646376</td>\n",
              "      <td>12.409294</td>\n",
              "      <td>-0.063725</td>\n",
              "      <td>9.782742</td>\n",
              "      <td>12.414558</td>\n",
              "      <td>-0.163645</td>\n",
              "      <td>-0.115831</td>\n",
              "      <td>0.043598</td>\n",
              "      <td>-0.163905</td>\n",
              "      <td>1.059993</td>\n",
              "      <td>2.397457</td>\n",
              "      <td>-0.063200</td>\n",
              "      <td>-0.013282</td>\n",
              "      <td>4.800240</td>\n",
              "      <td>0.174329</td>\n",
              "      <td>-0.172908</td>\n",
              "      <td>0.619399</td>\n",
              "      <td>-0.243300</td>\n",
              "      <td>-0.243452</td>\n",
              "      <td>-0.139732</td>\n",
              "      <td>-0.146895</td>\n",
              "      <td>-0.079667</td>\n",
              "      <td>-0.155554</td>\n",
              "      <td>0.773847</td>\n",
              "      <td>0.378516</td>\n",
              "      <td>-0.139734</td>\n",
              "      <td>-0.146891</td>\n",
              "      <td>-0.079667</td>\n",
              "      <td>-0.155553</td>\n",
              "      <td>0.773932</td>\n",
              "      <td>0.378593</td>\n",
              "      <td>-0.024669</td>\n",
              "      <td>-0.031271</td>\n",
              "      <td>-0.023044</td>\n",
              "      <td>-0.026215</td>\n",
              "      <td>0.101008</td>\n",
              "      <td>...</td>\n",
              "      <td>0.019771</td>\n",
              "      <td>-0.119195</td>\n",
              "      <td>0.147881</td>\n",
              "      <td>0.956170</td>\n",
              "      <td>0.759756</td>\n",
              "      <td>-0.041556</td>\n",
              "      <td>-0.188716</td>\n",
              "      <td>0.149949</td>\n",
              "      <td>-0.047722</td>\n",
              "      <td>-0.048171</td>\n",
              "      <td>-1.373723</td>\n",
              "      <td>-1.356131</td>\n",
              "      <td>-0.301754</td>\n",
              "      <td>-1.404445</td>\n",
              "      <td>0.183133</td>\n",
              "      <td>0.182748</td>\n",
              "      <td>-0.163577</td>\n",
              "      <td>-0.456561</td>\n",
              "      <td>-0.424672</td>\n",
              "      <td>-0.436915</td>\n",
              "      <td>0.143001</td>\n",
              "      <td>0.142525</td>\n",
              "      <td>-0.425896</td>\n",
              "      <td>-1.421138</td>\n",
              "      <td>-1.059868</td>\n",
              "      <td>-1.071885</td>\n",
              "      <td>0.185597</td>\n",
              "      <td>0.185492</td>\n",
              "      <td>-0.216814</td>\n",
              "      <td>-0.617907</td>\n",
              "      <td>-0.577099</td>\n",
              "      <td>-0.613614</td>\n",
              "      <td>0.241128</td>\n",
              "      <td>0.241406</td>\n",
              "      <td>1.072793</td>\n",
              "      <td>0.085530</td>\n",
              "      <td>-0.131155</td>\n",
              "      <td>0.677799</td>\n",
              "      <td>-0.120613</td>\n",
              "      <td>-0.119792</td>\n",
              "    </tr>\n",
              "    <tr>\n",
              "      <th>3</th>\n",
              "      <td>230460314</td>\n",
              "      <td>1</td>\n",
              "      <td>1.011523</td>\n",
              "      <td>-0.081127</td>\n",
              "      <td>-1.201369</td>\n",
              "      <td>1.153668</td>\n",
              "      <td>0.333276</td>\n",
              "      <td>1.312656</td>\n",
              "      <td>-0.061584</td>\n",
              "      <td>-0.163523</td>\n",
              "      <td>0.041399</td>\n",
              "      <td>0.935886</td>\n",
              "      <td>-0.098695</td>\n",
              "      <td>1.203038</td>\n",
              "      <td>0.988902</td>\n",
              "      <td>0.341693</td>\n",
              "      <td>-0.013282</td>\n",
              "      <td>-0.057392</td>\n",
              "      <td>0.058329</td>\n",
              "      <td>-0.032930</td>\n",
              "      <td>-0.042709</td>\n",
              "      <td>0.065455</td>\n",
              "      <td>0.324947</td>\n",
              "      <td>-0.139732</td>\n",
              "      <td>-0.148854</td>\n",
              "      <td>-0.080105</td>\n",
              "      <td>-0.155638</td>\n",
              "      <td>1.313051</td>\n",
              "      <td>1.106965</td>\n",
              "      <td>-0.139734</td>\n",
              "      <td>-0.148850</td>\n",
              "      <td>-0.080104</td>\n",
              "      <td>-0.155638</td>\n",
              "      <td>1.313130</td>\n",
              "      <td>1.106995</td>\n",
              "      <td>-0.024669</td>\n",
              "      <td>-0.031272</td>\n",
              "      <td>-0.023045</td>\n",
              "      <td>-0.026215</td>\n",
              "      <td>0.001428</td>\n",
              "      <td>...</td>\n",
              "      <td>-0.077909</td>\n",
              "      <td>-0.093120</td>\n",
              "      <td>1.587690</td>\n",
              "      <td>1.586539</td>\n",
              "      <td>-0.101820</td>\n",
              "      <td>0.704558</td>\n",
              "      <td>0.448898</td>\n",
              "      <td>0.659662</td>\n",
              "      <td>0.311091</td>\n",
              "      <td>0.302198</td>\n",
              "      <td>-1.373962</td>\n",
              "      <td>-1.355393</td>\n",
              "      <td>-0.300941</td>\n",
              "      <td>-1.404583</td>\n",
              "      <td>0.064846</td>\n",
              "      <td>-0.035232</td>\n",
              "      <td>-0.168742</td>\n",
              "      <td>-0.442156</td>\n",
              "      <td>-0.416540</td>\n",
              "      <td>-0.418273</td>\n",
              "      <td>0.367605</td>\n",
              "      <td>0.392035</td>\n",
              "      <td>-0.968903</td>\n",
              "      <td>-1.943850</td>\n",
              "      <td>-1.059868</td>\n",
              "      <td>-1.678997</td>\n",
              "      <td>0.185597</td>\n",
              "      <td>0.185492</td>\n",
              "      <td>-0.169472</td>\n",
              "      <td>-0.470592</td>\n",
              "      <td>-0.511871</td>\n",
              "      <td>-0.400422</td>\n",
              "      <td>0.517257</td>\n",
              "      <td>0.579382</td>\n",
              "      <td>0.018279</td>\n",
              "      <td>0.277775</td>\n",
              "      <td>0.326394</td>\n",
              "      <td>1.293750</td>\n",
              "      <td>0.178136</td>\n",
              "      <td>0.179117</td>\n",
              "    </tr>\n",
              "    <tr>\n",
              "      <th>4</th>\n",
              "      <td>230459870</td>\n",
              "      <td>1</td>\n",
              "      <td>0.961040</td>\n",
              "      <td>-0.081127</td>\n",
              "      <td>-1.201369</td>\n",
              "      <td>1.303743</td>\n",
              "      <td>0.333276</td>\n",
              "      <td>1.480381</td>\n",
              "      <td>-0.061584</td>\n",
              "      <td>-0.163577</td>\n",
              "      <td>0.038305</td>\n",
              "      <td>0.816377</td>\n",
              "      <td>-0.108000</td>\n",
              "      <td>0.907577</td>\n",
              "      <td>0.517402</td>\n",
              "      <td>0.341693</td>\n",
              "      <td>-0.013282</td>\n",
              "      <td>-0.057392</td>\n",
              "      <td>0.060033</td>\n",
              "      <td>-0.010829</td>\n",
              "      <td>-0.048401</td>\n",
              "      <td>-0.243639</td>\n",
              "      <td>-0.534976</td>\n",
              "      <td>-0.139732</td>\n",
              "      <td>-0.148855</td>\n",
              "      <td>-0.080110</td>\n",
              "      <td>-0.155641</td>\n",
              "      <td>1.001646</td>\n",
              "      <td>0.591836</td>\n",
              "      <td>-0.139734</td>\n",
              "      <td>-0.148851</td>\n",
              "      <td>-0.080109</td>\n",
              "      <td>-0.155641</td>\n",
              "      <td>1.001728</td>\n",
              "      <td>0.591900</td>\n",
              "      <td>-0.024669</td>\n",
              "      <td>-0.031272</td>\n",
              "      <td>-0.023045</td>\n",
              "      <td>-0.026215</td>\n",
              "      <td>0.001428</td>\n",
              "      <td>...</td>\n",
              "      <td>-0.097719</td>\n",
              "      <td>-0.088827</td>\n",
              "      <td>0.003143</td>\n",
              "      <td>0.002426</td>\n",
              "      <td>-0.101046</td>\n",
              "      <td>0.704558</td>\n",
              "      <td>0.382060</td>\n",
              "      <td>0.272503</td>\n",
              "      <td>-0.433005</td>\n",
              "      <td>-0.492387</td>\n",
              "      <td>-1.373962</td>\n",
              "      <td>-1.354445</td>\n",
              "      <td>-0.300062</td>\n",
              "      <td>-1.404412</td>\n",
              "      <td>-0.108018</td>\n",
              "      <td>-0.357362</td>\n",
              "      <td>-0.168742</td>\n",
              "      <td>-0.441465</td>\n",
              "      <td>-0.415693</td>\n",
              "      <td>-0.419836</td>\n",
              "      <td>-0.330396</td>\n",
              "      <td>-0.236199</td>\n",
              "      <td>-0.968903</td>\n",
              "      <td>-0.375715</td>\n",
              "      <td>-0.498323</td>\n",
              "      <td>-1.592267</td>\n",
              "      <td>0.137499</td>\n",
              "      <td>0.137396</td>\n",
              "      <td>-0.169472</td>\n",
              "      <td>-0.446040</td>\n",
              "      <td>-0.504702</td>\n",
              "      <td>-0.422589</td>\n",
              "      <td>-0.226790</td>\n",
              "      <td>-0.117629</td>\n",
              "      <td>0.018279</td>\n",
              "      <td>0.277775</td>\n",
              "      <td>0.413931</td>\n",
              "      <td>1.149556</td>\n",
              "      <td>-0.696053</td>\n",
              "      <td>-0.695540</td>\n",
              "    </tr>\n",
              "  </tbody>\n",
              "</table>\n",
              "<p>5 rows × 167 columns</p>\n",
              "</div>"
            ],
            "text/plain": [
              "   230425980  1  ...  -0.12061340670311574  -0.11979245961251665\n",
              "0    5530458  1  ...             -0.120613             -0.119792\n",
              "1  232022460  1  ...             -0.120613             -0.119792\n",
              "2  232438397  1  ...             -0.120613             -0.119792\n",
              "3  230460314  1  ...              0.178136              0.179117\n",
              "4  230459870  1  ...             -0.696053             -0.695540\n",
              "\n",
              "[5 rows x 167 columns]"
            ]
          },
          "metadata": {
            "tags": []
          },
          "execution_count": 72
        }
      ]
    },
    {
      "cell_type": "code",
      "metadata": {
        "id": "--XwC2TigCtx"
      },
      "source": [
        "colNames1 = {'0': 'txId', '1': \"Time step\"}\n",
        "colNames2 = {str(i+2): \"Local_feature_\" + str(i+1) for i in range(93)}\n",
        "colNames3 = {str(j+95): \"Aggregate_feature_\" + str(j+1) for j in range(72)}\n",
        "#combine dictionaries\n",
        "colNames = dict(**colNames1, **colNames2, **colNames3 )"
      ],
      "execution_count": 73,
      "outputs": []
    },
    {
      "cell_type": "code",
      "metadata": {
        "id": "HOONjgt5gCtz",
        "colab": {
          "base_uri": "https://localhost:8080/",
          "height": 338
        },
        "outputId": "418e6b22-fe4e-4602-efe5-87d1d5fda556"
      },
      "source": [
        "df_features.columns = colNames.values()\n",
        "df_features.head()"
      ],
      "execution_count": 74,
      "outputs": [
        {
          "output_type": "execute_result",
          "data": {
            "text/html": [
              "<div>\n",
              "<style scoped>\n",
              "    .dataframe tbody tr th:only-of-type {\n",
              "        vertical-align: middle;\n",
              "    }\n",
              "\n",
              "    .dataframe tbody tr th {\n",
              "        vertical-align: top;\n",
              "    }\n",
              "\n",
              "    .dataframe thead th {\n",
              "        text-align: right;\n",
              "    }\n",
              "</style>\n",
              "<table border=\"1\" class=\"dataframe\">\n",
              "  <thead>\n",
              "    <tr style=\"text-align: right;\">\n",
              "      <th></th>\n",
              "      <th>txId</th>\n",
              "      <th>Time step</th>\n",
              "      <th>Local_feature_1</th>\n",
              "      <th>Local_feature_2</th>\n",
              "      <th>Local_feature_3</th>\n",
              "      <th>Local_feature_4</th>\n",
              "      <th>Local_feature_5</th>\n",
              "      <th>Local_feature_6</th>\n",
              "      <th>Local_feature_7</th>\n",
              "      <th>Local_feature_8</th>\n",
              "      <th>Local_feature_9</th>\n",
              "      <th>Local_feature_10</th>\n",
              "      <th>Local_feature_11</th>\n",
              "      <th>Local_feature_12</th>\n",
              "      <th>Local_feature_13</th>\n",
              "      <th>Local_feature_14</th>\n",
              "      <th>Local_feature_15</th>\n",
              "      <th>Local_feature_16</th>\n",
              "      <th>Local_feature_17</th>\n",
              "      <th>Local_feature_18</th>\n",
              "      <th>Local_feature_19</th>\n",
              "      <th>Local_feature_20</th>\n",
              "      <th>Local_feature_21</th>\n",
              "      <th>Local_feature_22</th>\n",
              "      <th>Local_feature_23</th>\n",
              "      <th>Local_feature_24</th>\n",
              "      <th>Local_feature_25</th>\n",
              "      <th>Local_feature_26</th>\n",
              "      <th>Local_feature_27</th>\n",
              "      <th>Local_feature_28</th>\n",
              "      <th>Local_feature_29</th>\n",
              "      <th>Local_feature_30</th>\n",
              "      <th>Local_feature_31</th>\n",
              "      <th>Local_feature_32</th>\n",
              "      <th>Local_feature_33</th>\n",
              "      <th>Local_feature_34</th>\n",
              "      <th>Local_feature_35</th>\n",
              "      <th>Local_feature_36</th>\n",
              "      <th>Local_feature_37</th>\n",
              "      <th>Local_feature_38</th>\n",
              "      <th>...</th>\n",
              "      <th>Aggregate_feature_33</th>\n",
              "      <th>Aggregate_feature_34</th>\n",
              "      <th>Aggregate_feature_35</th>\n",
              "      <th>Aggregate_feature_36</th>\n",
              "      <th>Aggregate_feature_37</th>\n",
              "      <th>Aggregate_feature_38</th>\n",
              "      <th>Aggregate_feature_39</th>\n",
              "      <th>Aggregate_feature_40</th>\n",
              "      <th>Aggregate_feature_41</th>\n",
              "      <th>Aggregate_feature_42</th>\n",
              "      <th>Aggregate_feature_43</th>\n",
              "      <th>Aggregate_feature_44</th>\n",
              "      <th>Aggregate_feature_45</th>\n",
              "      <th>Aggregate_feature_46</th>\n",
              "      <th>Aggregate_feature_47</th>\n",
              "      <th>Aggregate_feature_48</th>\n",
              "      <th>Aggregate_feature_49</th>\n",
              "      <th>Aggregate_feature_50</th>\n",
              "      <th>Aggregate_feature_51</th>\n",
              "      <th>Aggregate_feature_52</th>\n",
              "      <th>Aggregate_feature_53</th>\n",
              "      <th>Aggregate_feature_54</th>\n",
              "      <th>Aggregate_feature_55</th>\n",
              "      <th>Aggregate_feature_56</th>\n",
              "      <th>Aggregate_feature_57</th>\n",
              "      <th>Aggregate_feature_58</th>\n",
              "      <th>Aggregate_feature_59</th>\n",
              "      <th>Aggregate_feature_60</th>\n",
              "      <th>Aggregate_feature_61</th>\n",
              "      <th>Aggregate_feature_62</th>\n",
              "      <th>Aggregate_feature_63</th>\n",
              "      <th>Aggregate_feature_64</th>\n",
              "      <th>Aggregate_feature_65</th>\n",
              "      <th>Aggregate_feature_66</th>\n",
              "      <th>Aggregate_feature_67</th>\n",
              "      <th>Aggregate_feature_68</th>\n",
              "      <th>Aggregate_feature_69</th>\n",
              "      <th>Aggregate_feature_70</th>\n",
              "      <th>Aggregate_feature_71</th>\n",
              "      <th>Aggregate_feature_72</th>\n",
              "    </tr>\n",
              "  </thead>\n",
              "  <tbody>\n",
              "    <tr>\n",
              "      <th>0</th>\n",
              "      <td>5530458</td>\n",
              "      <td>1</td>\n",
              "      <td>-0.171484</td>\n",
              "      <td>-0.184668</td>\n",
              "      <td>-1.201369</td>\n",
              "      <td>-0.121970</td>\n",
              "      <td>-0.043875</td>\n",
              "      <td>-0.113002</td>\n",
              "      <td>-0.061584</td>\n",
              "      <td>-0.162112</td>\n",
              "      <td>-0.167948</td>\n",
              "      <td>-0.049707</td>\n",
              "      <td>-0.164417</td>\n",
              "      <td>-0.028741</td>\n",
              "      <td>-0.035391</td>\n",
              "      <td>-0.042955</td>\n",
              "      <td>-0.013282</td>\n",
              "      <td>-0.055327</td>\n",
              "      <td>-0.169757</td>\n",
              "      <td>-0.171477</td>\n",
              "      <td>-0.174490</td>\n",
              "      <td>0.887058</td>\n",
              "      <td>0.884557</td>\n",
              "      <td>-0.139731</td>\n",
              "      <td>-0.148912</td>\n",
              "      <td>-0.080147</td>\n",
              "      <td>-0.155661</td>\n",
              "      <td>-0.010763</td>\n",
              "      <td>-0.012107</td>\n",
              "      <td>-0.139733</td>\n",
              "      <td>-0.148907</td>\n",
              "      <td>-0.080147</td>\n",
              "      <td>-0.155661</td>\n",
              "      <td>-0.010669</td>\n",
              "      <td>-0.012005</td>\n",
              "      <td>-0.024669</td>\n",
              "      <td>-0.031272</td>\n",
              "      <td>-0.023045</td>\n",
              "      <td>-0.026215</td>\n",
              "      <td>0.001428</td>\n",
              "      <td>...</td>\n",
              "      <td>-0.097719</td>\n",
              "      <td>-0.127462</td>\n",
              "      <td>0.003143</td>\n",
              "      <td>0.002426</td>\n",
              "      <td>-0.121330</td>\n",
              "      <td>-0.110933</td>\n",
              "      <td>-0.075909</td>\n",
              "      <td>-0.111641</td>\n",
              "      <td>-1.159649</td>\n",
              "      <td>-1.160129</td>\n",
              "      <td>-1.373723</td>\n",
              "      <td>-1.353918</td>\n",
              "      <td>-0.295982</td>\n",
              "      <td>-1.403215</td>\n",
              "      <td>-0.975738</td>\n",
              "      <td>-0.975237</td>\n",
              "      <td>-0.168742</td>\n",
              "      <td>-0.263290</td>\n",
              "      <td>-0.186389</td>\n",
              "      <td>-0.250875</td>\n",
              "      <td>-1.015963</td>\n",
              "      <td>-1.016230</td>\n",
              "      <td>-0.968903</td>\n",
              "      <td>0.146997</td>\n",
              "      <td>1.366287</td>\n",
              "      <td>-0.464773</td>\n",
              "      <td>-1.116918</td>\n",
              "      <td>-1.116948</td>\n",
              "      <td>-0.216814</td>\n",
              "      <td>0.634272</td>\n",
              "      <td>0.947382</td>\n",
              "      <td>0.673103</td>\n",
              "      <td>-0.979074</td>\n",
              "      <td>-0.978556</td>\n",
              "      <td>0.018279</td>\n",
              "      <td>-0.087490</td>\n",
              "      <td>-0.131155</td>\n",
              "      <td>-0.097524</td>\n",
              "      <td>-0.120613</td>\n",
              "      <td>-0.119792</td>\n",
              "    </tr>\n",
              "    <tr>\n",
              "      <th>1</th>\n",
              "      <td>232022460</td>\n",
              "      <td>1</td>\n",
              "      <td>-0.172107</td>\n",
              "      <td>-0.184668</td>\n",
              "      <td>-1.201369</td>\n",
              "      <td>-0.121970</td>\n",
              "      <td>-0.043875</td>\n",
              "      <td>-0.113002</td>\n",
              "      <td>-0.061584</td>\n",
              "      <td>-0.162749</td>\n",
              "      <td>-0.168576</td>\n",
              "      <td>-0.049707</td>\n",
              "      <td>-0.165054</td>\n",
              "      <td>-0.028741</td>\n",
              "      <td>-0.035391</td>\n",
              "      <td>-0.042955</td>\n",
              "      <td>-0.013282</td>\n",
              "      <td>-0.055298</td>\n",
              "      <td>-0.170400</td>\n",
              "      <td>-0.172217</td>\n",
              "      <td>-0.175227</td>\n",
              "      <td>0.887058</td>\n",
              "      <td>0.884557</td>\n",
              "      <td>-0.139729</td>\n",
              "      <td>-0.148911</td>\n",
              "      <td>-0.080147</td>\n",
              "      <td>-0.155660</td>\n",
              "      <td>-0.010763</td>\n",
              "      <td>-0.012107</td>\n",
              "      <td>-0.139731</td>\n",
              "      <td>-0.148906</td>\n",
              "      <td>-0.080147</td>\n",
              "      <td>-0.155660</td>\n",
              "      <td>-0.010669</td>\n",
              "      <td>-0.012005</td>\n",
              "      <td>-0.024669</td>\n",
              "      <td>-0.031272</td>\n",
              "      <td>-0.023045</td>\n",
              "      <td>-0.026215</td>\n",
              "      <td>0.001428</td>\n",
              "      <td>...</td>\n",
              "      <td>-0.097719</td>\n",
              "      <td>-0.129496</td>\n",
              "      <td>0.003143</td>\n",
              "      <td>0.002426</td>\n",
              "      <td>-0.122974</td>\n",
              "      <td>-0.041556</td>\n",
              "      <td>0.012549</td>\n",
              "      <td>-0.032244</td>\n",
              "      <td>-1.159649</td>\n",
              "      <td>-1.160129</td>\n",
              "      <td>-1.373902</td>\n",
              "      <td>-1.356210</td>\n",
              "      <td>-0.301548</td>\n",
              "      <td>-1.404577</td>\n",
              "      <td>-0.975738</td>\n",
              "      <td>-0.975237</td>\n",
              "      <td>-0.168742</td>\n",
              "      <td>-0.192468</td>\n",
              "      <td>-0.099790</td>\n",
              "      <td>-0.182133</td>\n",
              "      <td>-1.015963</td>\n",
              "      <td>-1.016230</td>\n",
              "      <td>-0.968903</td>\n",
              "      <td>-1.421138</td>\n",
              "      <td>-0.453330</td>\n",
              "      <td>-1.375441</td>\n",
              "      <td>-1.116918</td>\n",
              "      <td>-1.116948</td>\n",
              "      <td>-0.216814</td>\n",
              "      <td>0.407161</td>\n",
              "      <td>0.670883</td>\n",
              "      <td>0.439728</td>\n",
              "      <td>-0.979074</td>\n",
              "      <td>-0.978556</td>\n",
              "      <td>-0.098889</td>\n",
              "      <td>-0.106715</td>\n",
              "      <td>-0.131155</td>\n",
              "      <td>-0.183671</td>\n",
              "      <td>-0.120613</td>\n",
              "      <td>-0.119792</td>\n",
              "    </tr>\n",
              "    <tr>\n",
              "      <th>2</th>\n",
              "      <td>232438397</td>\n",
              "      <td>1</td>\n",
              "      <td>0.163054</td>\n",
              "      <td>1.963790</td>\n",
              "      <td>-0.646376</td>\n",
              "      <td>12.409294</td>\n",
              "      <td>-0.063725</td>\n",
              "      <td>9.782742</td>\n",
              "      <td>12.414558</td>\n",
              "      <td>-0.163645</td>\n",
              "      <td>-0.115831</td>\n",
              "      <td>0.043598</td>\n",
              "      <td>-0.163905</td>\n",
              "      <td>1.059993</td>\n",
              "      <td>2.397457</td>\n",
              "      <td>-0.063200</td>\n",
              "      <td>-0.013282</td>\n",
              "      <td>4.800240</td>\n",
              "      <td>0.174329</td>\n",
              "      <td>-0.172908</td>\n",
              "      <td>0.619399</td>\n",
              "      <td>-0.243300</td>\n",
              "      <td>-0.243452</td>\n",
              "      <td>-0.139732</td>\n",
              "      <td>-0.146895</td>\n",
              "      <td>-0.079667</td>\n",
              "      <td>-0.155554</td>\n",
              "      <td>0.773847</td>\n",
              "      <td>0.378516</td>\n",
              "      <td>-0.139734</td>\n",
              "      <td>-0.146891</td>\n",
              "      <td>-0.079667</td>\n",
              "      <td>-0.155553</td>\n",
              "      <td>0.773932</td>\n",
              "      <td>0.378593</td>\n",
              "      <td>-0.024669</td>\n",
              "      <td>-0.031271</td>\n",
              "      <td>-0.023044</td>\n",
              "      <td>-0.026215</td>\n",
              "      <td>0.101008</td>\n",
              "      <td>...</td>\n",
              "      <td>0.019771</td>\n",
              "      <td>-0.119195</td>\n",
              "      <td>0.147881</td>\n",
              "      <td>0.956170</td>\n",
              "      <td>0.759756</td>\n",
              "      <td>-0.041556</td>\n",
              "      <td>-0.188716</td>\n",
              "      <td>0.149949</td>\n",
              "      <td>-0.047722</td>\n",
              "      <td>-0.048171</td>\n",
              "      <td>-1.373723</td>\n",
              "      <td>-1.356131</td>\n",
              "      <td>-0.301754</td>\n",
              "      <td>-1.404445</td>\n",
              "      <td>0.183133</td>\n",
              "      <td>0.182748</td>\n",
              "      <td>-0.163577</td>\n",
              "      <td>-0.456561</td>\n",
              "      <td>-0.424672</td>\n",
              "      <td>-0.436915</td>\n",
              "      <td>0.143001</td>\n",
              "      <td>0.142525</td>\n",
              "      <td>-0.425896</td>\n",
              "      <td>-1.421138</td>\n",
              "      <td>-1.059868</td>\n",
              "      <td>-1.071885</td>\n",
              "      <td>0.185597</td>\n",
              "      <td>0.185492</td>\n",
              "      <td>-0.216814</td>\n",
              "      <td>-0.617907</td>\n",
              "      <td>-0.577099</td>\n",
              "      <td>-0.613614</td>\n",
              "      <td>0.241128</td>\n",
              "      <td>0.241406</td>\n",
              "      <td>1.072793</td>\n",
              "      <td>0.085530</td>\n",
              "      <td>-0.131155</td>\n",
              "      <td>0.677799</td>\n",
              "      <td>-0.120613</td>\n",
              "      <td>-0.119792</td>\n",
              "    </tr>\n",
              "    <tr>\n",
              "      <th>3</th>\n",
              "      <td>230460314</td>\n",
              "      <td>1</td>\n",
              "      <td>1.011523</td>\n",
              "      <td>-0.081127</td>\n",
              "      <td>-1.201369</td>\n",
              "      <td>1.153668</td>\n",
              "      <td>0.333276</td>\n",
              "      <td>1.312656</td>\n",
              "      <td>-0.061584</td>\n",
              "      <td>-0.163523</td>\n",
              "      <td>0.041399</td>\n",
              "      <td>0.935886</td>\n",
              "      <td>-0.098695</td>\n",
              "      <td>1.203038</td>\n",
              "      <td>0.988902</td>\n",
              "      <td>0.341693</td>\n",
              "      <td>-0.013282</td>\n",
              "      <td>-0.057392</td>\n",
              "      <td>0.058329</td>\n",
              "      <td>-0.032930</td>\n",
              "      <td>-0.042709</td>\n",
              "      <td>0.065455</td>\n",
              "      <td>0.324947</td>\n",
              "      <td>-0.139732</td>\n",
              "      <td>-0.148854</td>\n",
              "      <td>-0.080105</td>\n",
              "      <td>-0.155638</td>\n",
              "      <td>1.313051</td>\n",
              "      <td>1.106965</td>\n",
              "      <td>-0.139734</td>\n",
              "      <td>-0.148850</td>\n",
              "      <td>-0.080104</td>\n",
              "      <td>-0.155638</td>\n",
              "      <td>1.313130</td>\n",
              "      <td>1.106995</td>\n",
              "      <td>-0.024669</td>\n",
              "      <td>-0.031272</td>\n",
              "      <td>-0.023045</td>\n",
              "      <td>-0.026215</td>\n",
              "      <td>0.001428</td>\n",
              "      <td>...</td>\n",
              "      <td>-0.077909</td>\n",
              "      <td>-0.093120</td>\n",
              "      <td>1.587690</td>\n",
              "      <td>1.586539</td>\n",
              "      <td>-0.101820</td>\n",
              "      <td>0.704558</td>\n",
              "      <td>0.448898</td>\n",
              "      <td>0.659662</td>\n",
              "      <td>0.311091</td>\n",
              "      <td>0.302198</td>\n",
              "      <td>-1.373962</td>\n",
              "      <td>-1.355393</td>\n",
              "      <td>-0.300941</td>\n",
              "      <td>-1.404583</td>\n",
              "      <td>0.064846</td>\n",
              "      <td>-0.035232</td>\n",
              "      <td>-0.168742</td>\n",
              "      <td>-0.442156</td>\n",
              "      <td>-0.416540</td>\n",
              "      <td>-0.418273</td>\n",
              "      <td>0.367605</td>\n",
              "      <td>0.392035</td>\n",
              "      <td>-0.968903</td>\n",
              "      <td>-1.943850</td>\n",
              "      <td>-1.059868</td>\n",
              "      <td>-1.678997</td>\n",
              "      <td>0.185597</td>\n",
              "      <td>0.185492</td>\n",
              "      <td>-0.169472</td>\n",
              "      <td>-0.470592</td>\n",
              "      <td>-0.511871</td>\n",
              "      <td>-0.400422</td>\n",
              "      <td>0.517257</td>\n",
              "      <td>0.579382</td>\n",
              "      <td>0.018279</td>\n",
              "      <td>0.277775</td>\n",
              "      <td>0.326394</td>\n",
              "      <td>1.293750</td>\n",
              "      <td>0.178136</td>\n",
              "      <td>0.179117</td>\n",
              "    </tr>\n",
              "    <tr>\n",
              "      <th>4</th>\n",
              "      <td>230459870</td>\n",
              "      <td>1</td>\n",
              "      <td>0.961040</td>\n",
              "      <td>-0.081127</td>\n",
              "      <td>-1.201369</td>\n",
              "      <td>1.303743</td>\n",
              "      <td>0.333276</td>\n",
              "      <td>1.480381</td>\n",
              "      <td>-0.061584</td>\n",
              "      <td>-0.163577</td>\n",
              "      <td>0.038305</td>\n",
              "      <td>0.816377</td>\n",
              "      <td>-0.108000</td>\n",
              "      <td>0.907577</td>\n",
              "      <td>0.517402</td>\n",
              "      <td>0.341693</td>\n",
              "      <td>-0.013282</td>\n",
              "      <td>-0.057392</td>\n",
              "      <td>0.060033</td>\n",
              "      <td>-0.010829</td>\n",
              "      <td>-0.048401</td>\n",
              "      <td>-0.243639</td>\n",
              "      <td>-0.534976</td>\n",
              "      <td>-0.139732</td>\n",
              "      <td>-0.148855</td>\n",
              "      <td>-0.080110</td>\n",
              "      <td>-0.155641</td>\n",
              "      <td>1.001646</td>\n",
              "      <td>0.591836</td>\n",
              "      <td>-0.139734</td>\n",
              "      <td>-0.148851</td>\n",
              "      <td>-0.080109</td>\n",
              "      <td>-0.155641</td>\n",
              "      <td>1.001728</td>\n",
              "      <td>0.591900</td>\n",
              "      <td>-0.024669</td>\n",
              "      <td>-0.031272</td>\n",
              "      <td>-0.023045</td>\n",
              "      <td>-0.026215</td>\n",
              "      <td>0.001428</td>\n",
              "      <td>...</td>\n",
              "      <td>-0.097719</td>\n",
              "      <td>-0.088827</td>\n",
              "      <td>0.003143</td>\n",
              "      <td>0.002426</td>\n",
              "      <td>-0.101046</td>\n",
              "      <td>0.704558</td>\n",
              "      <td>0.382060</td>\n",
              "      <td>0.272503</td>\n",
              "      <td>-0.433005</td>\n",
              "      <td>-0.492387</td>\n",
              "      <td>-1.373962</td>\n",
              "      <td>-1.354445</td>\n",
              "      <td>-0.300062</td>\n",
              "      <td>-1.404412</td>\n",
              "      <td>-0.108018</td>\n",
              "      <td>-0.357362</td>\n",
              "      <td>-0.168742</td>\n",
              "      <td>-0.441465</td>\n",
              "      <td>-0.415693</td>\n",
              "      <td>-0.419836</td>\n",
              "      <td>-0.330396</td>\n",
              "      <td>-0.236199</td>\n",
              "      <td>-0.968903</td>\n",
              "      <td>-0.375715</td>\n",
              "      <td>-0.498323</td>\n",
              "      <td>-1.592267</td>\n",
              "      <td>0.137499</td>\n",
              "      <td>0.137396</td>\n",
              "      <td>-0.169472</td>\n",
              "      <td>-0.446040</td>\n",
              "      <td>-0.504702</td>\n",
              "      <td>-0.422589</td>\n",
              "      <td>-0.226790</td>\n",
              "      <td>-0.117629</td>\n",
              "      <td>0.018279</td>\n",
              "      <td>0.277775</td>\n",
              "      <td>0.413931</td>\n",
              "      <td>1.149556</td>\n",
              "      <td>-0.696053</td>\n",
              "      <td>-0.695540</td>\n",
              "    </tr>\n",
              "  </tbody>\n",
              "</table>\n",
              "<p>5 rows × 167 columns</p>\n",
              "</div>"
            ],
            "text/plain": [
              "        txId  Time step  ...  Aggregate_feature_71  Aggregate_feature_72\n",
              "0    5530458          1  ...             -0.120613             -0.119792\n",
              "1  232022460          1  ...             -0.120613             -0.119792\n",
              "2  232438397          1  ...             -0.120613             -0.119792\n",
              "3  230460314          1  ...              0.178136              0.179117\n",
              "4  230459870          1  ...             -0.696053             -0.695540\n",
              "\n",
              "[5 rows x 167 columns]"
            ]
          },
          "metadata": {
            "tags": []
          },
          "execution_count": 74
        }
      ]
    },
    {
      "cell_type": "code",
      "metadata": {
        "id": "cdJmKMYygCt1",
        "colab": {
          "base_uri": "https://localhost:8080/"
        },
        "outputId": "f8a95123-548a-4964-d5dd-b9a4a10c8be5"
      },
      "source": [
        "print('Shape of classes', df_node_transactions.shape)\n",
        "print('Shape of edges', df_edge_payments.shape)\n",
        "print('Shape of features', df_features.shape)"
      ],
      "execution_count": 75,
      "outputs": [
        {
          "output_type": "stream",
          "text": [
            "Shape of classes (203769, 2)\n",
            "Shape of edges (234355, 2)\n",
            "Shape of features (203768, 167)\n"
          ],
          "name": "stdout"
        }
      ]
    },
    {
      "cell_type": "code",
      "metadata": {
        "id": "GGfekqwygCt2",
        "colab": {
          "base_uri": "https://localhost:8080/",
          "height": 54
        },
        "outputId": "2232142b-f617-4423-d0ab-b7458958a5b7"
      },
      "source": [
        "df_node_transactions.loc[df_node_transactions['class'] == 'unknown', 'class'] = '3'\n",
        "group_class = df_node_transactions.groupby('class').count()\n",
        "plt.barh(['Unknown', 'Ilicit', 'Licit'], group_class['txId'].values, \\\n",
        "         color=['orange', 'r', 'g'] );"
      ],
      "execution_count": 76,
      "outputs": [
        {
          "output_type": "display_data",
          "data": {
            "image/png": "[encoded data removed]",
            "text/plain": [
              "<Figure size 432x288 with 1 Axes>"
            ]
          },
          "metadata": {
            "tags": [],
            "needs_background": "light"
          }
        }
      ]
    },
    {
      "cell_type": "markdown",
      "metadata": {
        "id": "hMCqgxVJgCt3"
      },
      "source": [
        "### Number of transactions per Time step"
      ]
    },
    {
      "cell_type": "code",
      "metadata": {
        "id": "v3CXNva0gCt5",
        "colab": {
          "base_uri": "https://localhost:8080/",
          "height": 71
        },
        "outputId": "133f188c-657e-4a1a-be48-6a9df4237e4e"
      },
      "source": [
        "group_feature = df_features.groupby('Time step').count()\n",
        "group_feature['txId'].plot()\n",
        "plt.title('Number of transactions by Time step')"
      ],
      "execution_count": 77,
      "outputs": [
        {
          "output_type": "execute_result",
          "data": {
            "text/plain": [
              "Text(0.5, 1.0, 'Number of transactions by Time step')"
            ]
          },
          "metadata": {
            "tags": []
          },
          "execution_count": 77
        },
        {
          "output_type": "display_data",
          "data": {
            "image/png": "[encoded data removed]",
            "text/plain": [
              "<Figure size 432x288 with 1 Axes>"
            ]
          },
          "metadata": {
            "tags": [],
            "needs_background": "light"
          }
        }
      ]
    },
    {
      "cell_type": "code",
      "metadata": {
        "id": "A7MmYy3PgCt6",
        "colab": {
          "base_uri": "https://localhost:8080/"
        },
        "outputId": "e16a274c-09c0-428b-a813-383a3cf7afbc"
      },
      "source": [
        "print(len(df_node_transactions.txId.unique()))\n",
        "len(df_features.txId.unique())"
      ],
      "execution_count": 78,
      "outputs": [
        {
          "output_type": "stream",
          "text": [
            "203769\n"
          ],
          "name": "stdout"
        },
        {
          "output_type": "execute_result",
          "data": {
            "text/plain": [
              "203768"
            ]
          },
          "metadata": {
            "tags": []
          },
          "execution_count": 78
        }
      ]
    },
    {
      "cell_type": "code",
      "metadata": {
        "id": "1exPDAzYgCt7",
        "colab": {
          "base_uri": "https://localhost:8080/",
          "height": 338
        },
        "outputId": "d348bbee-bc47-426a-c82a-78c56341736a"
      },
      "source": [
        "# Merge Class and features\n",
        "df_nodetrans_feature = pd.merge(df_features,df_node_transactions, on='txId',how='left' )\n",
        "\n",
        "df_nodetrans_feature.head()"
      ],
      "execution_count": 79,
      "outputs": [
        {
          "output_type": "execute_result",
          "data": {
            "text/html": [
              "<div>\n",
              "<style scoped>\n",
              "    .dataframe tbody tr th:only-of-type {\n",
              "        vertical-align: middle;\n",
              "    }\n",
              "\n",
              "    .dataframe tbody tr th {\n",
              "        vertical-align: top;\n",
              "    }\n",
              "\n",
              "    .dataframe thead th {\n",
              "        text-align: right;\n",
              "    }\n",
              "</style>\n",
              "<table border=\"1\" class=\"dataframe\">\n",
              "  <thead>\n",
              "    <tr style=\"text-align: right;\">\n",
              "      <th></th>\n",
              "      <th>txId</th>\n",
              "      <th>Time step</th>\n",
              "      <th>Local_feature_1</th>\n",
              "      <th>Local_feature_2</th>\n",
              "      <th>Local_feature_3</th>\n",
              "      <th>Local_feature_4</th>\n",
              "      <th>Local_feature_5</th>\n",
              "      <th>Local_feature_6</th>\n",
              "      <th>Local_feature_7</th>\n",
              "      <th>Local_feature_8</th>\n",
              "      <th>Local_feature_9</th>\n",
              "      <th>Local_feature_10</th>\n",
              "      <th>Local_feature_11</th>\n",
              "      <th>Local_feature_12</th>\n",
              "      <th>Local_feature_13</th>\n",
              "      <th>Local_feature_14</th>\n",
              "      <th>Local_feature_15</th>\n",
              "      <th>Local_feature_16</th>\n",
              "      <th>Local_feature_17</th>\n",
              "      <th>Local_feature_18</th>\n",
              "      <th>Local_feature_19</th>\n",
              "      <th>Local_feature_20</th>\n",
              "      <th>Local_feature_21</th>\n",
              "      <th>Local_feature_22</th>\n",
              "      <th>Local_feature_23</th>\n",
              "      <th>Local_feature_24</th>\n",
              "      <th>Local_feature_25</th>\n",
              "      <th>Local_feature_26</th>\n",
              "      <th>Local_feature_27</th>\n",
              "      <th>Local_feature_28</th>\n",
              "      <th>Local_feature_29</th>\n",
              "      <th>Local_feature_30</th>\n",
              "      <th>Local_feature_31</th>\n",
              "      <th>Local_feature_32</th>\n",
              "      <th>Local_feature_33</th>\n",
              "      <th>Local_feature_34</th>\n",
              "      <th>Local_feature_35</th>\n",
              "      <th>Local_feature_36</th>\n",
              "      <th>Local_feature_37</th>\n",
              "      <th>Local_feature_38</th>\n",
              "      <th>...</th>\n",
              "      <th>Aggregate_feature_34</th>\n",
              "      <th>Aggregate_feature_35</th>\n",
              "      <th>Aggregate_feature_36</th>\n",
              "      <th>Aggregate_feature_37</th>\n",
              "      <th>Aggregate_feature_38</th>\n",
              "      <th>Aggregate_feature_39</th>\n",
              "      <th>Aggregate_feature_40</th>\n",
              "      <th>Aggregate_feature_41</th>\n",
              "      <th>Aggregate_feature_42</th>\n",
              "      <th>Aggregate_feature_43</th>\n",
              "      <th>Aggregate_feature_44</th>\n",
              "      <th>Aggregate_feature_45</th>\n",
              "      <th>Aggregate_feature_46</th>\n",
              "      <th>Aggregate_feature_47</th>\n",
              "      <th>Aggregate_feature_48</th>\n",
              "      <th>Aggregate_feature_49</th>\n",
              "      <th>Aggregate_feature_50</th>\n",
              "      <th>Aggregate_feature_51</th>\n",
              "      <th>Aggregate_feature_52</th>\n",
              "      <th>Aggregate_feature_53</th>\n",
              "      <th>Aggregate_feature_54</th>\n",
              "      <th>Aggregate_feature_55</th>\n",
              "      <th>Aggregate_feature_56</th>\n",
              "      <th>Aggregate_feature_57</th>\n",
              "      <th>Aggregate_feature_58</th>\n",
              "      <th>Aggregate_feature_59</th>\n",
              "      <th>Aggregate_feature_60</th>\n",
              "      <th>Aggregate_feature_61</th>\n",
              "      <th>Aggregate_feature_62</th>\n",
              "      <th>Aggregate_feature_63</th>\n",
              "      <th>Aggregate_feature_64</th>\n",
              "      <th>Aggregate_feature_65</th>\n",
              "      <th>Aggregate_feature_66</th>\n",
              "      <th>Aggregate_feature_67</th>\n",
              "      <th>Aggregate_feature_68</th>\n",
              "      <th>Aggregate_feature_69</th>\n",
              "      <th>Aggregate_feature_70</th>\n",
              "      <th>Aggregate_feature_71</th>\n",
              "      <th>Aggregate_feature_72</th>\n",
              "      <th>class</th>\n",
              "    </tr>\n",
              "  </thead>\n",
              "  <tbody>\n",
              "    <tr>\n",
              "      <th>0</th>\n",
              "      <td>5530458</td>\n",
              "      <td>1</td>\n",
              "      <td>-0.171484</td>\n",
              "      <td>-0.184668</td>\n",
              "      <td>-1.201369</td>\n",
              "      <td>-0.121970</td>\n",
              "      <td>-0.043875</td>\n",
              "      <td>-0.113002</td>\n",
              "      <td>-0.061584</td>\n",
              "      <td>-0.162112</td>\n",
              "      <td>-0.167948</td>\n",
              "      <td>-0.049707</td>\n",
              "      <td>-0.164417</td>\n",
              "      <td>-0.028741</td>\n",
              "      <td>-0.035391</td>\n",
              "      <td>-0.042955</td>\n",
              "      <td>-0.013282</td>\n",
              "      <td>-0.055327</td>\n",
              "      <td>-0.169757</td>\n",
              "      <td>-0.171477</td>\n",
              "      <td>-0.174490</td>\n",
              "      <td>0.887058</td>\n",
              "      <td>0.884557</td>\n",
              "      <td>-0.139731</td>\n",
              "      <td>-0.148912</td>\n",
              "      <td>-0.080147</td>\n",
              "      <td>-0.155661</td>\n",
              "      <td>-0.010763</td>\n",
              "      <td>-0.012107</td>\n",
              "      <td>-0.139733</td>\n",
              "      <td>-0.148907</td>\n",
              "      <td>-0.080147</td>\n",
              "      <td>-0.155661</td>\n",
              "      <td>-0.010669</td>\n",
              "      <td>-0.012005</td>\n",
              "      <td>-0.024669</td>\n",
              "      <td>-0.031272</td>\n",
              "      <td>-0.023045</td>\n",
              "      <td>-0.026215</td>\n",
              "      <td>0.001428</td>\n",
              "      <td>...</td>\n",
              "      <td>-0.127462</td>\n",
              "      <td>0.003143</td>\n",
              "      <td>0.002426</td>\n",
              "      <td>-0.121330</td>\n",
              "      <td>-0.110933</td>\n",
              "      <td>-0.075909</td>\n",
              "      <td>-0.111641</td>\n",
              "      <td>-1.159649</td>\n",
              "      <td>-1.160129</td>\n",
              "      <td>-1.373723</td>\n",
              "      <td>-1.353918</td>\n",
              "      <td>-0.295982</td>\n",
              "      <td>-1.403215</td>\n",
              "      <td>-0.975738</td>\n",
              "      <td>-0.975237</td>\n",
              "      <td>-0.168742</td>\n",
              "      <td>-0.263290</td>\n",
              "      <td>-0.186389</td>\n",
              "      <td>-0.250875</td>\n",
              "      <td>-1.015963</td>\n",
              "      <td>-1.016230</td>\n",
              "      <td>-0.968903</td>\n",
              "      <td>0.146997</td>\n",
              "      <td>1.366287</td>\n",
              "      <td>-0.464773</td>\n",
              "      <td>-1.116918</td>\n",
              "      <td>-1.116948</td>\n",
              "      <td>-0.216814</td>\n",
              "      <td>0.634272</td>\n",
              "      <td>0.947382</td>\n",
              "      <td>0.673103</td>\n",
              "      <td>-0.979074</td>\n",
              "      <td>-0.978556</td>\n",
              "      <td>0.018279</td>\n",
              "      <td>-0.087490</td>\n",
              "      <td>-0.131155</td>\n",
              "      <td>-0.097524</td>\n",
              "      <td>-0.120613</td>\n",
              "      <td>-0.119792</td>\n",
              "      <td>3</td>\n",
              "    </tr>\n",
              "    <tr>\n",
              "      <th>1</th>\n",
              "      <td>232022460</td>\n",
              "      <td>1</td>\n",
              "      <td>-0.172107</td>\n",
              "      <td>-0.184668</td>\n",
              "      <td>-1.201369</td>\n",
              "      <td>-0.121970</td>\n",
              "      <td>-0.043875</td>\n",
              "      <td>-0.113002</td>\n",
              "      <td>-0.061584</td>\n",
              "      <td>-0.162749</td>\n",
              "      <td>-0.168576</td>\n",
              "      <td>-0.049707</td>\n",
              "      <td>-0.165054</td>\n",
              "      <td>-0.028741</td>\n",
              "      <td>-0.035391</td>\n",
              "      <td>-0.042955</td>\n",
              "      <td>-0.013282</td>\n",
              "      <td>-0.055298</td>\n",
              "      <td>-0.170400</td>\n",
              "      <td>-0.172217</td>\n",
              "      <td>-0.175227</td>\n",
              "      <td>0.887058</td>\n",
              "      <td>0.884557</td>\n",
              "      <td>-0.139729</td>\n",
              "      <td>-0.148911</td>\n",
              "      <td>-0.080147</td>\n",
              "      <td>-0.155660</td>\n",
              "      <td>-0.010763</td>\n",
              "      <td>-0.012107</td>\n",
              "      <td>-0.139731</td>\n",
              "      <td>-0.148906</td>\n",
              "      <td>-0.080147</td>\n",
              "      <td>-0.155660</td>\n",
              "      <td>-0.010669</td>\n",
              "      <td>-0.012005</td>\n",
              "      <td>-0.024669</td>\n",
              "      <td>-0.031272</td>\n",
              "      <td>-0.023045</td>\n",
              "      <td>-0.026215</td>\n",
              "      <td>0.001428</td>\n",
              "      <td>...</td>\n",
              "      <td>-0.129496</td>\n",
              "      <td>0.003143</td>\n",
              "      <td>0.002426</td>\n",
              "      <td>-0.122974</td>\n",
              "      <td>-0.041556</td>\n",
              "      <td>0.012549</td>\n",
              "      <td>-0.032244</td>\n",
              "      <td>-1.159649</td>\n",
              "      <td>-1.160129</td>\n",
              "      <td>-1.373902</td>\n",
              "      <td>-1.356210</td>\n",
              "      <td>-0.301548</td>\n",
              "      <td>-1.404577</td>\n",
              "      <td>-0.975738</td>\n",
              "      <td>-0.975237</td>\n",
              "      <td>-0.168742</td>\n",
              "      <td>-0.192468</td>\n",
              "      <td>-0.099790</td>\n",
              "      <td>-0.182133</td>\n",
              "      <td>-1.015963</td>\n",
              "      <td>-1.016230</td>\n",
              "      <td>-0.968903</td>\n",
              "      <td>-1.421138</td>\n",
              "      <td>-0.453330</td>\n",
              "      <td>-1.375441</td>\n",
              "      <td>-1.116918</td>\n",
              "      <td>-1.116948</td>\n",
              "      <td>-0.216814</td>\n",
              "      <td>0.407161</td>\n",
              "      <td>0.670883</td>\n",
              "      <td>0.439728</td>\n",
              "      <td>-0.979074</td>\n",
              "      <td>-0.978556</td>\n",
              "      <td>-0.098889</td>\n",
              "      <td>-0.106715</td>\n",
              "      <td>-0.131155</td>\n",
              "      <td>-0.183671</td>\n",
              "      <td>-0.120613</td>\n",
              "      <td>-0.119792</td>\n",
              "      <td>3</td>\n",
              "    </tr>\n",
              "    <tr>\n",
              "      <th>2</th>\n",
              "      <td>232438397</td>\n",
              "      <td>1</td>\n",
              "      <td>0.163054</td>\n",
              "      <td>1.963790</td>\n",
              "      <td>-0.646376</td>\n",
              "      <td>12.409294</td>\n",
              "      <td>-0.063725</td>\n",
              "      <td>9.782742</td>\n",
              "      <td>12.414558</td>\n",
              "      <td>-0.163645</td>\n",
              "      <td>-0.115831</td>\n",
              "      <td>0.043598</td>\n",
              "      <td>-0.163905</td>\n",
              "      <td>1.059993</td>\n",
              "      <td>2.397457</td>\n",
              "      <td>-0.063200</td>\n",
              "      <td>-0.013282</td>\n",
              "      <td>4.800240</td>\n",
              "      <td>0.174329</td>\n",
              "      <td>-0.172908</td>\n",
              "      <td>0.619399</td>\n",
              "      <td>-0.243300</td>\n",
              "      <td>-0.243452</td>\n",
              "      <td>-0.139732</td>\n",
              "      <td>-0.146895</td>\n",
              "      <td>-0.079667</td>\n",
              "      <td>-0.155554</td>\n",
              "      <td>0.773847</td>\n",
              "      <td>0.378516</td>\n",
              "      <td>-0.139734</td>\n",
              "      <td>-0.146891</td>\n",
              "      <td>-0.079667</td>\n",
              "      <td>-0.155553</td>\n",
              "      <td>0.773932</td>\n",
              "      <td>0.378593</td>\n",
              "      <td>-0.024669</td>\n",
              "      <td>-0.031271</td>\n",
              "      <td>-0.023044</td>\n",
              "      <td>-0.026215</td>\n",
              "      <td>0.101008</td>\n",
              "      <td>...</td>\n",
              "      <td>-0.119195</td>\n",
              "      <td>0.147881</td>\n",
              "      <td>0.956170</td>\n",
              "      <td>0.759756</td>\n",
              "      <td>-0.041556</td>\n",
              "      <td>-0.188716</td>\n",
              "      <td>0.149949</td>\n",
              "      <td>-0.047722</td>\n",
              "      <td>-0.048171</td>\n",
              "      <td>-1.373723</td>\n",
              "      <td>-1.356131</td>\n",
              "      <td>-0.301754</td>\n",
              "      <td>-1.404445</td>\n",
              "      <td>0.183133</td>\n",
              "      <td>0.182748</td>\n",
              "      <td>-0.163577</td>\n",
              "      <td>-0.456561</td>\n",
              "      <td>-0.424672</td>\n",
              "      <td>-0.436915</td>\n",
              "      <td>0.143001</td>\n",
              "      <td>0.142525</td>\n",
              "      <td>-0.425896</td>\n",
              "      <td>-1.421138</td>\n",
              "      <td>-1.059868</td>\n",
              "      <td>-1.071885</td>\n",
              "      <td>0.185597</td>\n",
              "      <td>0.185492</td>\n",
              "      <td>-0.216814</td>\n",
              "      <td>-0.617907</td>\n",
              "      <td>-0.577099</td>\n",
              "      <td>-0.613614</td>\n",
              "      <td>0.241128</td>\n",
              "      <td>0.241406</td>\n",
              "      <td>1.072793</td>\n",
              "      <td>0.085530</td>\n",
              "      <td>-0.131155</td>\n",
              "      <td>0.677799</td>\n",
              "      <td>-0.120613</td>\n",
              "      <td>-0.119792</td>\n",
              "      <td>2</td>\n",
              "    </tr>\n",
              "    <tr>\n",
              "      <th>3</th>\n",
              "      <td>230460314</td>\n",
              "      <td>1</td>\n",
              "      <td>1.011523</td>\n",
              "      <td>-0.081127</td>\n",
              "      <td>-1.201369</td>\n",
              "      <td>1.153668</td>\n",
              "      <td>0.333276</td>\n",
              "      <td>1.312656</td>\n",
              "      <td>-0.061584</td>\n",
              "      <td>-0.163523</td>\n",
              "      <td>0.041399</td>\n",
              "      <td>0.935886</td>\n",
              "      <td>-0.098695</td>\n",
              "      <td>1.203038</td>\n",
              "      <td>0.988902</td>\n",
              "      <td>0.341693</td>\n",
              "      <td>-0.013282</td>\n",
              "      <td>-0.057392</td>\n",
              "      <td>0.058329</td>\n",
              "      <td>-0.032930</td>\n",
              "      <td>-0.042709</td>\n",
              "      <td>0.065455</td>\n",
              "      <td>0.324947</td>\n",
              "      <td>-0.139732</td>\n",
              "      <td>-0.148854</td>\n",
              "      <td>-0.080105</td>\n",
              "      <td>-0.155638</td>\n",
              "      <td>1.313051</td>\n",
              "      <td>1.106965</td>\n",
              "      <td>-0.139734</td>\n",
              "      <td>-0.148850</td>\n",
              "      <td>-0.080104</td>\n",
              "      <td>-0.155638</td>\n",
              "      <td>1.313130</td>\n",
              "      <td>1.106995</td>\n",
              "      <td>-0.024669</td>\n",
              "      <td>-0.031272</td>\n",
              "      <td>-0.023045</td>\n",
              "      <td>-0.026215</td>\n",
              "      <td>0.001428</td>\n",
              "      <td>...</td>\n",
              "      <td>-0.093120</td>\n",
              "      <td>1.587690</td>\n",
              "      <td>1.586539</td>\n",
              "      <td>-0.101820</td>\n",
              "      <td>0.704558</td>\n",
              "      <td>0.448898</td>\n",
              "      <td>0.659662</td>\n",
              "      <td>0.311091</td>\n",
              "      <td>0.302198</td>\n",
              "      <td>-1.373962</td>\n",
              "      <td>-1.355393</td>\n",
              "      <td>-0.300941</td>\n",
              "      <td>-1.404583</td>\n",
              "      <td>0.064846</td>\n",
              "      <td>-0.035232</td>\n",
              "      <td>-0.168742</td>\n",
              "      <td>-0.442156</td>\n",
              "      <td>-0.416540</td>\n",
              "      <td>-0.418273</td>\n",
              "      <td>0.367605</td>\n",
              "      <td>0.392035</td>\n",
              "      <td>-0.968903</td>\n",
              "      <td>-1.943850</td>\n",
              "      <td>-1.059868</td>\n",
              "      <td>-1.678997</td>\n",
              "      <td>0.185597</td>\n",
              "      <td>0.185492</td>\n",
              "      <td>-0.169472</td>\n",
              "      <td>-0.470592</td>\n",
              "      <td>-0.511871</td>\n",
              "      <td>-0.400422</td>\n",
              "      <td>0.517257</td>\n",
              "      <td>0.579382</td>\n",
              "      <td>0.018279</td>\n",
              "      <td>0.277775</td>\n",
              "      <td>0.326394</td>\n",
              "      <td>1.293750</td>\n",
              "      <td>0.178136</td>\n",
              "      <td>0.179117</td>\n",
              "      <td>3</td>\n",
              "    </tr>\n",
              "    <tr>\n",
              "      <th>4</th>\n",
              "      <td>230459870</td>\n",
              "      <td>1</td>\n",
              "      <td>0.961040</td>\n",
              "      <td>-0.081127</td>\n",
              "      <td>-1.201369</td>\n",
              "      <td>1.303743</td>\n",
              "      <td>0.333276</td>\n",
              "      <td>1.480381</td>\n",
              "      <td>-0.061584</td>\n",
              "      <td>-0.163577</td>\n",
              "      <td>0.038305</td>\n",
              "      <td>0.816377</td>\n",
              "      <td>-0.108000</td>\n",
              "      <td>0.907577</td>\n",
              "      <td>0.517402</td>\n",
              "      <td>0.341693</td>\n",
              "      <td>-0.013282</td>\n",
              "      <td>-0.057392</td>\n",
              "      <td>0.060033</td>\n",
              "      <td>-0.010829</td>\n",
              "      <td>-0.048401</td>\n",
              "      <td>-0.243639</td>\n",
              "      <td>-0.534976</td>\n",
              "      <td>-0.139732</td>\n",
              "      <td>-0.148855</td>\n",
              "      <td>-0.080110</td>\n",
              "      <td>-0.155641</td>\n",
              "      <td>1.001646</td>\n",
              "      <td>0.591836</td>\n",
              "      <td>-0.139734</td>\n",
              "      <td>-0.148851</td>\n",
              "      <td>-0.080109</td>\n",
              "      <td>-0.155641</td>\n",
              "      <td>1.001728</td>\n",
              "      <td>0.591900</td>\n",
              "      <td>-0.024669</td>\n",
              "      <td>-0.031272</td>\n",
              "      <td>-0.023045</td>\n",
              "      <td>-0.026215</td>\n",
              "      <td>0.001428</td>\n",
              "      <td>...</td>\n",
              "      <td>-0.088827</td>\n",
              "      <td>0.003143</td>\n",
              "      <td>0.002426</td>\n",
              "      <td>-0.101046</td>\n",
              "      <td>0.704558</td>\n",
              "      <td>0.382060</td>\n",
              "      <td>0.272503</td>\n",
              "      <td>-0.433005</td>\n",
              "      <td>-0.492387</td>\n",
              "      <td>-1.373962</td>\n",
              "      <td>-1.354445</td>\n",
              "      <td>-0.300062</td>\n",
              "      <td>-1.404412</td>\n",
              "      <td>-0.108018</td>\n",
              "      <td>-0.357362</td>\n",
              "      <td>-0.168742</td>\n",
              "      <td>-0.441465</td>\n",
              "      <td>-0.415693</td>\n",
              "      <td>-0.419836</td>\n",
              "      <td>-0.330396</td>\n",
              "      <td>-0.236199</td>\n",
              "      <td>-0.968903</td>\n",
              "      <td>-0.375715</td>\n",
              "      <td>-0.498323</td>\n",
              "      <td>-1.592267</td>\n",
              "      <td>0.137499</td>\n",
              "      <td>0.137396</td>\n",
              "      <td>-0.169472</td>\n",
              "      <td>-0.446040</td>\n",
              "      <td>-0.504702</td>\n",
              "      <td>-0.422589</td>\n",
              "      <td>-0.226790</td>\n",
              "      <td>-0.117629</td>\n",
              "      <td>0.018279</td>\n",
              "      <td>0.277775</td>\n",
              "      <td>0.413931</td>\n",
              "      <td>1.149556</td>\n",
              "      <td>-0.696053</td>\n",
              "      <td>-0.695540</td>\n",
              "      <td>3</td>\n",
              "    </tr>\n",
              "  </tbody>\n",
              "</table>\n",
              "<p>5 rows × 168 columns</p>\n",
              "</div>"
            ],
            "text/plain": [
              "        txId  Time step  ...  Aggregate_feature_72  class\n",
              "0    5530458          1  ...             -0.119792      3\n",
              "1  232022460          1  ...             -0.119792      3\n",
              "2  232438397          1  ...             -0.119792      2\n",
              "3  230460314          1  ...              0.179117      3\n",
              "4  230459870          1  ...             -0.695540      3\n",
              "\n",
              "[5 rows x 168 columns]"
            ]
          },
          "metadata": {
            "tags": []
          },
          "execution_count": 79
        }
      ]
    },
    {
      "cell_type": "code",
      "metadata": {
        "id": "uXedINE9gCt8",
        "colab": {
          "base_uri": "https://localhost:8080/",
          "height": 241
        },
        "outputId": "c96142d1-a763-484d-c118-b45cc4a6ab84"
      },
      "source": [
        "nodetrans_feature = df_nodetrans_feature.groupby(['Time step', 'class']).count()\n",
        "nodetrans_feature = nodetrans_feature['txId'].reset_index().\\\n",
        "rename(columns={'txId': 'count'})#unstack()\n",
        "nodetrans_feature.head()"
      ],
      "execution_count": 80,
      "outputs": [
        {
          "output_type": "execute_result",
          "data": {
            "text/html": [
              "<div>\n",
              "<style scoped>\n",
              "    .dataframe tbody tr th:only-of-type {\n",
              "        vertical-align: middle;\n",
              "    }\n",
              "\n",
              "    .dataframe tbody tr th {\n",
              "        vertical-align: top;\n",
              "    }\n",
              "\n",
              "    .dataframe thead th {\n",
              "        text-align: right;\n",
              "    }\n",
              "</style>\n",
              "<table border=\"1\" class=\"dataframe\">\n",
              "  <thead>\n",
              "    <tr style=\"text-align: right;\">\n",
              "      <th></th>\n",
              "      <th>Time step</th>\n",
              "      <th>class</th>\n",
              "      <th>count</th>\n",
              "    </tr>\n",
              "  </thead>\n",
              "  <tbody>\n",
              "    <tr>\n",
              "      <th>0</th>\n",
              "      <td>1</td>\n",
              "      <td>1</td>\n",
              "      <td>17</td>\n",
              "    </tr>\n",
              "    <tr>\n",
              "      <th>1</th>\n",
              "      <td>1</td>\n",
              "      <td>2</td>\n",
              "      <td>2130</td>\n",
              "    </tr>\n",
              "    <tr>\n",
              "      <th>2</th>\n",
              "      <td>1</td>\n",
              "      <td>3</td>\n",
              "      <td>5732</td>\n",
              "    </tr>\n",
              "    <tr>\n",
              "      <th>3</th>\n",
              "      <td>2</td>\n",
              "      <td>1</td>\n",
              "      <td>18</td>\n",
              "    </tr>\n",
              "    <tr>\n",
              "      <th>4</th>\n",
              "      <td>2</td>\n",
              "      <td>2</td>\n",
              "      <td>1099</td>\n",
              "    </tr>\n",
              "  </tbody>\n",
              "</table>\n",
              "</div>"
            ],
            "text/plain": [
              "   Time step class  count\n",
              "0          1     1     17\n",
              "1          1     2   2130\n",
              "2          1     3   5732\n",
              "3          2     1     18\n",
              "4          2     2   1099"
            ]
          },
          "metadata": {
            "tags": []
          },
          "execution_count": 80
        }
      ]
    },
    {
      "cell_type": "code",
      "metadata": {
        "id": "ycP68ndbgCt9",
        "colab": {
          "base_uri": "https://localhost:8080/",
          "height": 71
        },
        "outputId": "7cab6d31-850c-45bb-c738-1d3c6b9d8806"
      },
      "source": [
        "class1 = nodetrans_feature[nodetrans_feature['class'] == '1']\n",
        "class2 = nodetrans_feature[nodetrans_feature['class'] == '2']\n",
        "class3 = nodetrans_feature[nodetrans_feature['class'] == '3']\n",
        "\n",
        "p1 = plt.bar(class3['Time step'], class3['count'], color = 'orange')\n",
        "\n",
        "p2 = plt.bar(class2['Time step'], class2['count'], color='g',\n",
        "             bottom=class3['count'])\n",
        "\n",
        "p3 = plt.bar(class1['Time step'], class1['count'], color='r',\n",
        "             bottom=np.array(class3['count'])+np.array(class2['count']))\n",
        "\n",
        "plt.xlabel('Time step')"
      ],
      "execution_count": 81,
      "outputs": [
        {
          "output_type": "execute_result",
          "data": {
            "text/plain": [
              "Text(0.5, 0, 'Time step')"
            ]
          },
          "metadata": {
            "tags": []
          },
          "execution_count": 81
        },
        {
          "output_type": "display_data",
          "data": {
            "image/png": "[encoded data removed]",
            "text/plain": [
              "<Figure size 432x288 with 1 Axes>"
            ]
          },
          "metadata": {
            "tags": [],
            "needs_background": "light"
          }
        }
      ]
    },
    {
      "cell_type": "markdown",
      "metadata": {
        "id": "u5qmWQFUgCt-"
      },
      "source": [
        "##  Train Test split\n"
      ]
    },
    {
      "cell_type": "markdown",
      "metadata": {
        "id": "s0Y34wdxgCt-"
      },
      "source": [
        "The train set includes all labeled samples up to the 34th time-step (29894 transactions), and the test set includes all labeled samples from the 35th time-step, inclusive, onward (16670\n",
        "transactions)"
      ]
    },
    {
      "cell_type": "code",
      "metadata": {
        "id": "qGkDbIwrgCt_",
        "colab": {
          "base_uri": "https://localhost:8080/"
        },
        "outputId": "c73da836-71ae-4afa-b99b-481f67c3b8dc"
      },
      "source": [
        "data = df_nodetrans_feature.loc[df_nodetrans_feature['class'].isin(('1','2'))]\n",
        "X = data.drop(['class','txId'], axis=1)\n",
        "y = data['class']\n",
        "y = np.where(y=='2',0,1)\n",
        "print('X shape: {}'.format(X.shape))\n",
        "print('y count:\\n{}'.format(pd.value_counts(y)))"
      ],
      "execution_count": 82,
      "outputs": [
        {
          "output_type": "stream",
          "text": [
            "X shape: (46564, 166)\n",
            "y count:\n",
            "0    42019\n",
            "1     4545\n",
            "dtype: int64\n"
          ],
          "name": "stdout"
        }
      ]
    },
    {
      "cell_type": "code",
      "metadata": {
        "id": "niFNDA-xyhdJ"
      },
      "source": [
        "def paper_split(X, y, all_test=False):\n",
        "  X_train = X[X['Time step'] <= 34]\n",
        "  y_train = y[X['Time step'] <= 34]\n",
        "  if all_test:\n",
        "    X_test = X.copy()\n",
        "    y_test = y.copy()\n",
        "  else:\n",
        "    X_test = X[X['Time step'] >= 35]\n",
        "    y_test = y[X['Time step'] >= 35]\n",
        "\n",
        "  y_test_timestep = X_test.copy()['Time step']\n",
        "  X_train.drop(['Time step'], axis=1, inplace=True)\n",
        "  X_test.drop(['Time step'], axis=1, inplace=True)\n",
        "\n",
        "  print('Paper split')\n",
        "  print('training data shape: {}'.format(X_train.shape))\n",
        "  print('test data shape: {}'.format(X_test.shape))\n",
        "\n",
        "  print('y training data count:')\n",
        "  print(pd.value_counts(y_train))\n",
        "  print('y test data count:')\n",
        "  print(pd.value_counts(y_test))\n",
        "\n",
        "  return (X_train, X_test, y_train, y_test, y_test_timestep)\n",
        "  "
      ],
      "execution_count": 83,
      "outputs": []
    },
    {
      "cell_type": "code",
      "metadata": {
        "id": "Pzn5B4Xbqw6l"
      },
      "source": [
        "from sklearn.model_selection import train_test_split\n",
        "def experimental_split(X, y, all_test=False):\n",
        "  X_train, X_test, y_train, y_test = train_test_split(X, y, test_size=0.3580, random_state=42)\n",
        "\n",
        "  if all_test:\n",
        "    X_test = pd.concat([X_train,X_test])\n",
        "    y_test = np.concatenate((y_train, y_test))\n",
        "\n",
        "  y_test_timestep = X_test.copy()\n",
        "  y_test_timestep = y_test_timestep['Time step']\n",
        "  X_train.drop(['Time step'], axis=1, inplace=True)\n",
        "  X_test.drop(['Time step'], axis=1, inplace=True)\n",
        "\n",
        "  print('Experimental split')\n",
        "  print('training data shape: {}'.format(X_train.shape))\n",
        "  print('test data shape: {}'.format(X_test.shape))\n",
        "\n",
        "  print('y training data count:')\n",
        "  print(pd.value_counts(y_train))\n",
        "  print('y test data count:')\n",
        "  print(pd.value_counts(y_test))\n",
        "\n",
        "  return (X_train, X_test, y_train, y_test, y_test_timestep)"
      ],
      "execution_count": 84,
      "outputs": []
    },
    {
      "cell_type": "markdown",
      "metadata": {
        "id": "rwEH6VQNfoR8"
      },
      "source": [
        "## Oversampling"
      ]
    },
    {
      "cell_type": "markdown",
      "metadata": {
        "id": "pf5cDqz2flWK"
      },
      "source": [
        "### SMOTE: Synthetic Minority Oversampling Technique"
      ]
    },
    {
      "cell_type": "code",
      "metadata": {
        "id": "1uksCSwKfjEj"
      },
      "source": [
        "from imblearn.over_sampling import SMOTE\n",
        "def smote(X_train, y_train):\n",
        "  print('SMOTE...')\n",
        "  print('Before SMOTE:\\n{}'.format(pd.value_counts(y_train)))\n",
        "  smt = SMOTE()\n",
        "  X_train_sm, y_train_sm = smt.fit_resample(X_train, y_train)\n",
        "  print('After SMOTE:\\n{}'.format(pd.value_counts(y_train_sm)))\n",
        "  return X_train_sm, y_train_sm"
      ],
      "execution_count": 85,
      "outputs": []
    },
    {
      "cell_type": "markdown",
      "metadata": {
        "id": "1XcXr0LTp97r"
      },
      "source": [
        "### SMOTE + ENN"
      ]
    },
    {
      "cell_type": "code",
      "metadata": {
        "id": "Yr_nqSHQ-nlT"
      },
      "source": [
        "from imblearn.combine import SMOTEENN\n",
        "def smote_enn(X_train, y_train):\n",
        "  print('SMOTE+ENN...')\n",
        "  print('Before SMOTE+ENN:\\n{}'.format(pd.value_counts(y_train)))\n",
        "  smenn = SMOTEENN()\n",
        "  X_train_smenn, y_train_smenn = smenn.fit_resample(X_train, y_train)\n",
        "  print('After SMOTE+ENN:\\n{}'.format(pd.value_counts(y_train_smenn)))\n",
        "  return X_train_smenn, y_train_smenn"
      ],
      "execution_count": 86,
      "outputs": []
    },
    {
      "cell_type": "markdown",
      "metadata": {
        "id": "ilS5ISF6gCuG"
      },
      "source": [
        "## Supervised methods"
      ]
    },
    {
      "cell_type": "code",
      "metadata": {
        "id": "DdRHnCF1gCuK"
      },
      "source": [
        "def compute_illicit_count(y_test, y_timestep):\n",
        "    illicit_count={}\n",
        "    for i,step in enumerate(y_timestep):\n",
        "        if y_test[i] == 1:\n",
        "            if (step in illicit_count):\n",
        "                illicit_count[step] += 1\n",
        "            else:\n",
        "                illicit_count[step] = 1\n",
        "    return illicit_count"
      ],
      "execution_count": 87,
      "outputs": []
    },
    {
      "cell_type": "code",
      "metadata": {
        "id": "01QuKbsBgCuM"
      },
      "source": [
        "def calculate_model_score(y_true, y_pred):\n",
        "    metric_dict = {'accuracy': accuracy_score(y_true, y_pred), 'f1': f1_score(y_true, y_pred, pos_label=1),\n",
        "                   'f1_micro': f1_score(y_true, y_pred, average='micro'),\n",
        "                   'f1_macro': f1_score(y_true, y_pred, average='macro'),\n",
        "                   'precision': precision_score(y_true, y_pred), 'recall': recall_score(y_true, y_pred)\n",
        "                   }#,'roc_auc': roc_auc_score(y_true, y_pred)}\n",
        "    return metric_dict"
      ],
      "execution_count": 88,
      "outputs": []
    },
    {
      "cell_type": "code",
      "metadata": {
        "id": "XIkoQKgcE0UQ"
      },
      "source": [
        "def compute_f1_score_per_step(y_test,yhat_test, y_timestep):\n",
        "    f1_score_map={}\n",
        "    prev_step = 0\n",
        "    for step in y_timestep.unique():\n",
        "        y_test_actual = y_test[y_timestep == step]\n",
        "        y_test_pred = yhat_test[y_timestep == step]\n",
        "        # print('{} length: {},{}'.format(step, len(set(y_test_actual)), len(set(y_test_pred))))\n",
        "        f1_score_map[step] = f1_score(y_test_actual, y_test_pred, pos_label=1)\n",
        "    return f1_score_map"
      ],
      "execution_count": 89,
      "outputs": []
    },
    {
      "cell_type": "markdown",
      "metadata": {
        "id": "bbzi32uZgCuN"
      },
      "source": [
        "### 1. Logistic Regression"
      ]
    },
    {
      "cell_type": "code",
      "metadata": {
        "id": "FfMWUJtegCuO"
      },
      "source": [
        "from sklearn.metrics import confusion_matrix\n",
        "from sklearn.linear_model import LogisticRegression\n",
        "from sklearn.linear_model import LogisticRegressionCV\n",
        "import sklearn.metrics"
      ],
      "execution_count": 90,
      "outputs": []
    },
    {
      "cell_type": "code",
      "metadata": {
        "id": "F_XtjJrtgCuP"
      },
      "source": [
        "def lr(x_train, x_test, y_train, y_test, y_timestep):\n",
        "  clf_lr = LogisticRegression(max_iter=10000,n_jobs=-1)\n",
        "  clf_lr.fit(x_train, y_train)\n",
        "  yhat_test = clf_lr.predict(x_test)\n",
        "  return yhat_test"
      ],
      "execution_count": 91,
      "outputs": []
    },
    {
      "cell_type": "markdown",
      "metadata": {
        "id": "P8wG25MLgCuQ"
      },
      "source": [
        "### 2. Random Forest"
      ]
    },
    {
      "cell_type": "code",
      "metadata": {
        "id": "K_QIE6RXgCuR"
      },
      "source": [
        "from sklearn.ensemble import GradientBoostingClassifier, RandomForestClassifier"
      ],
      "execution_count": 92,
      "outputs": []
    },
    {
      "cell_type": "code",
      "metadata": {
        "id": "Xvl17S4egCuS"
      },
      "source": [
        "def rf(x_train, x_test, y_train, y_test, y_timestep):\n",
        "  n_estimators = 100  # number of independent subsampled estimators\n",
        "  max_features = None  # maximum number of features to consider per round\n",
        "  max_depth = None  # maximum depth of the tree\n",
        "\n",
        "  # Define\n",
        "  clf = RandomForestClassifier(n_estimators=n_estimators, max_features=max_features, \n",
        "                              max_depth=max_depth, n_jobs=-1, random_state=0)\n",
        "\n",
        "  # Fit\n",
        "  clf.fit(x_train, y_train)\n",
        "  yhat_test = clf.predict(x_test)\n",
        "\n",
        "  return yhat_test "
      ],
      "execution_count": 93,
      "outputs": []
    },
    {
      "cell_type": "markdown",
      "metadata": {
        "id": "zzPjncpPgCuV"
      },
      "source": [
        "### 3. XG Boost"
      ]
    },
    {
      "cell_type": "code",
      "metadata": {
        "id": "Qkd36TFLgCuW"
      },
      "source": [
        "def xb(x_train, x_test, y_train, y_test, y_timestep):\n",
        "  # Arguments\n",
        "  n_estimators = 50  # number of boosting iterations\n",
        "  max_features = None  # maximum number of features to consider per round\n",
        "  max_depth = None  # maximum depth of the tree\n",
        "  \n",
        "  # Define\n",
        "  clf = GradientBoostingClassifier(\n",
        "      n_estimators=n_estimators, max_features=max_features, \n",
        "      max_depth=max_depth, random_state=0\n",
        "  )\n",
        "  \n",
        "  # Fit\n",
        "  clf.fit(x_train, y_train)\n",
        "  \n",
        "  # Compute Accuracy\n",
        "  yhat_test = clf.predict(x_test)\n",
        "  return yhat_test"
      ],
      "execution_count": 94,
      "outputs": []
    },
    {
      "cell_type": "markdown",
      "metadata": {
        "id": "nT0wSZ952uts"
      },
      "source": [
        "## Plot"
      ]
    },
    {
      "cell_type": "markdown",
      "metadata": {
        "id": "3qS6J_GH_ekz"
      },
      "source": [
        "#### Plot"
      ]
    },
    {
      "cell_type": "code",
      "metadata": {
        "id": "KC4V0WOngCub"
      },
      "source": [
        "import matplotlib.pyplot as plt\n",
        "from mpl_toolkits.axes_grid1 import host_subplot\n",
        "import mpl_toolkits.axisartist as AA\n",
        "from matplotlib.pyplot import figure"
      ],
      "execution_count": 129,
      "outputs": []
    },
    {
      "cell_type": "code",
      "metadata": {
        "id": "NhSdjnZogCuc"
      },
      "source": [
        "def plot(logs, labels, count):\n",
        "  plt.figure(figsize=(15,5))\n",
        "  host = host_subplot(111, axes_class=AA.Axes)\n",
        "\n",
        "  # for f1 scores\n",
        "  for label in labels:\n",
        "    model_score = sorted(logs[label]['timesteps'].items())\n",
        "    steps = [k for k,v in model_score]\n",
        "    score_list = [v for k,v in model_score]\n",
        "    # print(label)\n",
        "    # print(steps)\n",
        "    # print(score_list)\n",
        "    host.plot(steps, score_list, label=label, linewidth=2)\n",
        "\n",
        "  host.set_xlim([min(steps),max(steps)])\n",
        "  host.set_xlabel(\"Time step\")\n",
        "  host.set_ylabel(\"F1  Illicit score\")\n",
        "\n",
        "  # for yellow bar - illicit count\n",
        "  par1 = host.twinx()\n",
        "  par1.axis[\"right\"].toggle(all=True)\n",
        "  par1.set_ylabel(\"#Illicit\")\n",
        "  par1.bar(steps, count, label=\"#Illicit\", color='yellow',edgecolor=\"grey\",linewidth=1)\n",
        "\n",
        "  plt.subplots_adjust(right=0.75)\n",
        "  plt.tick_params(labelsize=15)\n",
        "  # plt.legend(loc='center left', bbox_to_anchor=(1.0, 0.5))\n",
        "  host.legend(loc='center left', bbox_to_anchor=(1.2, 0.7),fontsize=18)\n",
        "\n",
        "  plt.draw()\n",
        "  plt.show()"
      ],
      "execution_count": 181,
      "outputs": []
    },
    {
      "cell_type": "markdown",
      "metadata": {
        "id": "r1BNYqCDv0AN"
      },
      "source": [
        "#### Setup"
      ]
    },
    {
      "cell_type": "code",
      "metadata": {
        "id": "8oBH1m5q3en7"
      },
      "source": [
        "def run_all_models(data, oversampling_method=None):\n",
        "  x_train, x_test, y_train, y_test, y_timestep = data\n",
        "\n",
        "  if oversampling_method == 'smote':\n",
        "    x_train, y_train = smote(x_train, y_train)\n",
        "  elif oversampling_method == 'smenn':\n",
        "    x_train, y_train = smote_enn(x_train, y_train)\n",
        "\n",
        "  print(\"linear regression ...\")\n",
        "  lr_yhat = lr(x_train, x_test, y_train, y_test, y_timestep)\n",
        "  lr_result = {\n",
        "      'scores': calculate_model_score(y_test, lr_yhat),\n",
        "      'timesteps': compute_f1_score_per_step(y_test, lr_yhat, y_timestep)\n",
        "  }\n",
        "\n",
        "  print(\"random forest ...\")\n",
        "  rf_yhat = rf(x_train, x_test, y_train, y_test, y_timestep)\n",
        "  rf_result = {\n",
        "      'scores': calculate_model_score(y_test, rf_yhat),\n",
        "      'timesteps': compute_f1_score_per_step(y_test, rf_yhat, y_timestep)\n",
        "  }\n",
        "\n",
        "  print(\"xboost ...\")\n",
        "  xgb_yhat = xb(x_train, x_test, y_train, y_test, y_timestep)\n",
        "  xgb_result = {\n",
        "      'scores': calculate_model_score(y_test, xgb_yhat),\n",
        "      'timesteps': compute_f1_score_per_step(y_test, xgb_yhat, y_timestep)\n",
        "  }\n",
        "\n",
        "  return lr_result, rf_result, xgb_result"
      ],
      "execution_count": 97,
      "outputs": []
    },
    {
      "cell_type": "code",
      "metadata": {
        "colab": {
          "base_uri": "https://localhost:8080/"
        },
        "id": "BnmV40KR5D2O",
        "outputId": "30148522-45c9-4028-d738-6c823639b7c8"
      },
      "source": [
        "# data\n",
        "paper_split_data = paper_split(X,y)\n",
        "experimental_split_data = experimental_split(X,y)"
      ],
      "execution_count": 98,
      "outputs": [
        {
          "output_type": "stream",
          "text": [
            "Paper split\n",
            "training data shape: (29894, 165)\n",
            "test data shape: (16670, 165)\n",
            "y training data count:\n",
            "0    26432\n",
            "1     3462\n",
            "dtype: int64\n",
            "y test data count:\n",
            "0    15587\n",
            "1     1083\n",
            "dtype: int64\n",
            "Experimental split\n",
            "training data shape: (29894, 165)\n",
            "test data shape: (16670, 165)\n",
            "y training data count:\n",
            "0    26981\n",
            "1     2913\n",
            "dtype: int64\n",
            "y test data count:\n",
            "0    15038\n",
            "1     1632\n",
            "dtype: int64\n"
          ],
          "name": "stdout"
        },
        {
          "output_type": "stream",
          "text": [
            "/usr/local/lib/python3.7/dist-packages/pandas/core/frame.py:4174: SettingWithCopyWarning: \n",
            "A value is trying to be set on a copy of a slice from a DataFrame\n",
            "\n",
            "See the caveats in the documentation: https://pandas.pydata.org/pandas-docs/stable/user_guide/indexing.html#returning-a-view-versus-a-copy\n",
            "  errors=errors,\n"
          ],
          "name": "stderr"
        }
      ]
    },
    {
      "cell_type": "code",
      "metadata": {
        "id": "YNKNsfIoe2C5"
      },
      "source": [
        "logs={}"
      ],
      "execution_count": 99,
      "outputs": []
    },
    {
      "cell_type": "code",
      "metadata": {
        "id": "WTV0bnQ1gCuP"
      },
      "source": [
        "logs_count = compute_illicit_count(paper_split_data[3], paper_split_data[4]) # y_test and y_timestep\n",
        "illicit_count = list(logs_count.values())"
      ],
      "execution_count": 100,
      "outputs": []
    },
    {
      "cell_type": "code",
      "metadata": {
        "id": "GDhB1vEA5fEJ"
      },
      "source": [
        "logs_count_ex = compute_illicit_count(experimental_split_data[3], experimental_split_data[4]) # y_test and y_timestep\n",
        "illicit_count_ex = [logs_count_ex[i] if i in logs_count_ex else 0 for i in range(1,50)]"
      ],
      "execution_count": 101,
      "outputs": []
    },
    {
      "cell_type": "markdown",
      "metadata": {
        "id": "vZEnxudZhlwv"
      },
      "source": [
        "#### Baseline"
      ]
    },
    {
      "cell_type": "code",
      "metadata": {
        "colab": {
          "base_uri": "https://localhost:8080/"
        },
        "id": "OqI0WkJg956O",
        "outputId": "ebc104f3-19e0-4396-8d91-715c4418abc9"
      },
      "source": [
        "# baseline\n",
        "logs['lr'], logs['rf'], logs['xgb'] = run_all_models(paper_split_data)"
      ],
      "execution_count": 102,
      "outputs": [
        {
          "output_type": "stream",
          "text": [
            "linear regression ...\n",
            "random forest ...\n",
            "xboost ...\n"
          ],
          "name": "stdout"
        }
      ]
    },
    {
      "cell_type": "code",
      "metadata": {
        "colab": {
          "base_uri": "https://localhost:8080/",
          "height": 280
        },
        "id": "7TaA5G1ncyqf",
        "outputId": "b765d107-adcd-4d1f-b359-399bbb3a677b"
      },
      "source": [
        "labels = [\"lr\",\"rf\",\"xgb\"]\n",
        "plot(logs, labels, illicit_count)"
      ],
      "execution_count": 103,
      "outputs": [
        {
          "output_type": "display_data",
          "data": {
            "image/png": "[encoded data removed]",
            "text/plain": [
              "<Figure size 432x288 with 1 Axes>"
            ]
          },
          "metadata": {
            "tags": [],
            "needs_background": "light"
          }
        }
      ]
    },
    {
      "cell_type": "code",
      "metadata": {
        "colab": {
          "base_uri": "https://localhost:8080/"
        },
        "id": "bMFxGyJ7fymy",
        "outputId": "eff45d17-77d4-4133-8704-ce4b8b7c5085"
      },
      "source": [
        "for label in labels:\n",
        "  print('{}: {}'.format(label, logs[label]['scores']))"
      ],
      "execution_count": 104,
      "outputs": [
        {
          "output_type": "stream",
          "text": [
            "lr: {'accuracy': 0.8858428314337132, 'f1': 0.44599708879184863, 'f1_micro': 0.8858428314337132, 'f1_macro': 0.691181122560111, 'precision': 0.32568027210884354, 'recall': 0.7072945521698984}\n",
            "rf: {'accuracy': 0.9735452909418116, 'f1': 0.7787255393878576, 'f1_micro': 0.9735452909418116, 'f1_macro': 0.8823286037450342, 'precision': 0.8527472527472527, 'recall': 0.716528162511542}\n",
            "xgb: {'accuracy': 0.9377324535092981, 'f1': 0.613263785394933, 'f1_micro': 0.9377324535092981, 'f1_macro': 0.7897020910273204, 'precision': 0.514053716427233, 'recall': 0.7599261311172668}\n"
          ],
          "name": "stdout"
        }
      ]
    },
    {
      "cell_type": "markdown",
      "metadata": {
        "id": "Xq8oELUa_4ZE"
      },
      "source": [
        "#### No SMOTE and SMOTE variants"
      ]
    },
    {
      "cell_type": "code",
      "metadata": {
        "id": "lPwUYFvE7U2-",
        "colab": {
          "base_uri": "https://localhost:8080/"
        },
        "outputId": "d7b2bf6c-f6b4-4d8b-e3a4-b4fc54313bb2"
      },
      "source": [
        "logs['xgb-smote'], logs['lr-smote'], logs['rf-smote'] = run_all_models(paper_split_data, 'smote')"
      ],
      "execution_count": 105,
      "outputs": [
        {
          "output_type": "stream",
          "text": [
            "SMOTE...\n",
            "Before SMOTE:\n",
            "0    26432\n",
            "1     3462\n",
            "dtype: int64\n"
          ],
          "name": "stdout"
        },
        {
          "output_type": "stream",
          "text": [
            "/usr/local/lib/python3.7/dist-packages/sklearn/utils/deprecation.py:87: FutureWarning: Function safe_indexing is deprecated; safe_indexing is deprecated in version 0.22 and will be removed in version 0.24.\n",
            "  warnings.warn(msg, category=FutureWarning)\n"
          ],
          "name": "stderr"
        },
        {
          "output_type": "stream",
          "text": [
            "After SMOTE:\n",
            "1    26432\n",
            "0    26432\n",
            "dtype: int64\n",
            "linear regression ...\n",
            "random forest ...\n",
            "xboost ...\n"
          ],
          "name": "stdout"
        }
      ]
    },
    {
      "cell_type": "code",
      "metadata": {
        "colab": {
          "base_uri": "https://localhost:8080/"
        },
        "id": "kWeHhh8Qjdct",
        "outputId": "b0e29cab-b9f4-44b9-fdb6-bfba584eb084"
      },
      "source": [
        "logs['xgb-smenn'], logs['lr-smenn'], logs['rf-smenn'] = run_all_models(paper_split_data, 'smenn')"
      ],
      "execution_count": 106,
      "outputs": [
        {
          "output_type": "stream",
          "text": [
            "SMOTE+ENN...\n",
            "Before SMOTE+ENN:\n",
            "0    26432\n",
            "1     3462\n",
            "dtype: int64\n"
          ],
          "name": "stdout"
        },
        {
          "output_type": "stream",
          "text": [
            "/usr/local/lib/python3.7/dist-packages/sklearn/utils/deprecation.py:87: FutureWarning: Function safe_indexing is deprecated; safe_indexing is deprecated in version 0.22 and will be removed in version 0.24.\n",
            "  warnings.warn(msg, category=FutureWarning)\n",
            "/usr/local/lib/python3.7/dist-packages/sklearn/utils/deprecation.py:87: FutureWarning: Function safe_indexing is deprecated; safe_indexing is deprecated in version 0.22 and will be removed in version 0.24.\n",
            "  warnings.warn(msg, category=FutureWarning)\n",
            "/usr/local/lib/python3.7/dist-packages/sklearn/utils/deprecation.py:87: FutureWarning: Function safe_indexing is deprecated; safe_indexing is deprecated in version 0.22 and will be removed in version 0.24.\n",
            "  warnings.warn(msg, category=FutureWarning)\n"
          ],
          "name": "stderr"
        },
        {
          "output_type": "stream",
          "text": [
            "After SMOTE+ENN:\n",
            "1    26373\n",
            "0    24461\n",
            "dtype: int64\n",
            "linear regression ...\n"
          ],
          "name": "stdout"
        },
        {
          "output_type": "stream",
          "text": [
            "/usr/local/lib/python3.7/dist-packages/sklearn/utils/deprecation.py:87: FutureWarning: Function safe_indexing is deprecated; safe_indexing is deprecated in version 0.22 and will be removed in version 0.24.\n",
            "  warnings.warn(msg, category=FutureWarning)\n"
          ],
          "name": "stderr"
        },
        {
          "output_type": "stream",
          "text": [
            "random forest ...\n",
            "xboost ...\n"
          ],
          "name": "stdout"
        }
      ]
    },
    {
      "cell_type": "code",
      "metadata": {
        "id": "oMmWM1XVgCuY",
        "colab": {
          "base_uri": "https://localhost:8080/",
          "height": 330
        },
        "outputId": "a22a2820-a56c-411f-80a3-a650563b576e"
      },
      "source": [
        "# compare baseline and smote varients\n",
        "# labels = [\"lr\",\"rf\",\"xgb\", \"lr-smenn\",\"rf-smenn\", \"xgb-smenn\", \"lr-smote\",\"rf-smote\", \"xgb-smote\"]\n",
        "labels = [\"lr\", \"rf\",\"xgb\",\"lr-smote\",\"xgb-smote\"]\n",
        "plot(logs, labels, illicit_count)"
      ],
      "execution_count": 182,
      "outputs": [
        {
          "output_type": "display_data",
          "data": {
            "image/png": "[encoded data removed]",
            "text/plain": [
              "<Figure size 1080x360 with 1 Axes>"
            ]
          },
          "metadata": {
            "tags": [],
            "needs_background": "light"
          }
        }
      ]
    },
    {
      "cell_type": "code",
      "metadata": {
        "id": "VXKRoJ7Qr1M6",
        "colab": {
          "base_uri": "https://localhost:8080/"
        },
        "outputId": "f1609245-2a39-4c18-ddc4-ab8129377b2b"
      },
      "source": [
        "labels = [\"lr\",\"rf\",\"xgb\", \"lr-smenn\",\"rf-smenn\", \"xgb-smenn\", \"lr-smote\",\"rf-smote\", \"xgb-smote\"]\n",
        "\n",
        "for label in labels:\n",
        "  print('{}: {}'.format(label, logs[label]['scores']))"
      ],
      "execution_count": 121,
      "outputs": [
        {
          "output_type": "stream",
          "text": [
            "lr: {'accuracy': 0.8858428314337132, 'f1': 0.44599708879184863, 'f1_micro': 0.8858428314337132, 'f1_macro': 0.691181122560111, 'precision': 0.32568027210884354, 'recall': 0.7072945521698984}\n",
            "rf: {'accuracy': 0.9735452909418116, 'f1': 0.7787255393878576, 'f1_micro': 0.9735452909418116, 'f1_macro': 0.8823286037450342, 'precision': 0.8527472527472527, 'recall': 0.716528162511542}\n",
            "xgb: {'accuracy': 0.9377324535092981, 'f1': 0.613263785394933, 'f1_micro': 0.9377324535092981, 'f1_macro': 0.7897020910273204, 'precision': 0.514053716427233, 'recall': 0.7599261311172668}\n",
            "rf-smenn: {'accuracy': 0.9256148770245951, 'f1': 0.4979757085020243, 'f1_micro': 0.9256148770245951, 'f1_macro': 0.7289036300851554, 'precision': 0.4434030281182408, 'recall': 0.5678670360110804}\n",
            "xgb-smenn: {'accuracy': 0.7425314937012597, 'f1': 0.3061752344002587, 'f1_micro': 0.7425314937012597, 'f1_macro': 0.5740569034931249, 'precision': 0.18557711150303743, 'recall': 0.8744228993536473}\n",
            "lr-smote: {'accuracy': 0.97000599880024, 'f1': 0.7568093385214008, 'f1_micro': 0.97000599880024, 'f1_macro': 0.8704133638010405, 'precision': 0.7995889003083247, 'recall': 0.7183748845798708}\n",
            "rf-smote: {'accuracy': 0.9474505098980204, 'f1': 0.6269165247018739, 'f1_micro': 0.9474505098980204, 'f1_macro': 0.7993255829498012, 'precision': 0.5818181818181818, 'recall': 0.6795937211449676}\n",
            "xgb-smote: {'accuracy': 0.7722855428914217, 'f1': 0.3295655245496291, 'f1_micro': 0.7722855428914217, 'f1_macro': 0.596208443321133, 'precision': 0.20375627866346363, 'recall': 0.8614958448753463}\n"
          ],
          "name": "stdout"
        }
      ]
    },
    {
      "cell_type": "markdown",
      "metadata": {
        "id": "voOlwvo02b8F"
      },
      "source": [
        "#### Experimental Split"
      ]
    },
    {
      "cell_type": "code",
      "metadata": {
        "id": "0ArtAoaS3CRp",
        "colab": {
          "base_uri": "https://localhost:8080/"
        },
        "outputId": "5fd513be-849a-47cc-e379-8da857ba4cdd"
      },
      "source": [
        "logs['lr-new-split'], logs['rf-new-split'], logs['xgb-new-split'] = run_all_models(experimental_split_data)\n",
        "logs['lr-new-split-smenn'], logs['rf-new-split-smenn'], logs['xgb-new-split-smenn'] = run_all_models(experimental_split_data, 'smenn')"
      ],
      "execution_count": 111,
      "outputs": [
        {
          "output_type": "stream",
          "text": [
            "linear regression ...\n",
            "random forest ...\n"
          ],
          "name": "stdout"
        },
        {
          "output_type": "stream",
          "text": [
            "/usr/local/lib/python3.7/dist-packages/sklearn/metrics/_classification.py:1515: UndefinedMetricWarning: F-score is ill-defined and being set to 0.0 due to no true nor predicted samples. Use `zero_division` parameter to control this behavior.\n",
            "  average, \"true nor predicted\", 'F-score is', len(true_sum)\n"
          ],
          "name": "stderr"
        },
        {
          "output_type": "stream",
          "text": [
            "xboost ...\n",
            "SMOTE+ENN...\n",
            "Before SMOTE+ENN:\n",
            "0    26981\n",
            "1     2913\n",
            "dtype: int64\n"
          ],
          "name": "stdout"
        },
        {
          "output_type": "stream",
          "text": [
            "/usr/local/lib/python3.7/dist-packages/sklearn/utils/deprecation.py:87: FutureWarning: Function safe_indexing is deprecated; safe_indexing is deprecated in version 0.22 and will be removed in version 0.24.\n",
            "  warnings.warn(msg, category=FutureWarning)\n",
            "/usr/local/lib/python3.7/dist-packages/sklearn/utils/deprecation.py:87: FutureWarning: Function safe_indexing is deprecated; safe_indexing is deprecated in version 0.22 and will be removed in version 0.24.\n",
            "  warnings.warn(msg, category=FutureWarning)\n",
            "/usr/local/lib/python3.7/dist-packages/sklearn/utils/deprecation.py:87: FutureWarning: Function safe_indexing is deprecated; safe_indexing is deprecated in version 0.22 and will be removed in version 0.24.\n",
            "  warnings.warn(msg, category=FutureWarning)\n"
          ],
          "name": "stderr"
        },
        {
          "output_type": "stream",
          "text": [
            "After SMOTE+ENN:\n",
            "1    26925\n",
            "0    24556\n",
            "dtype: int64\n",
            "linear regression ...\n"
          ],
          "name": "stdout"
        },
        {
          "output_type": "stream",
          "text": [
            "/usr/local/lib/python3.7/dist-packages/sklearn/utils/deprecation.py:87: FutureWarning: Function safe_indexing is deprecated; safe_indexing is deprecated in version 0.22 and will be removed in version 0.24.\n",
            "  warnings.warn(msg, category=FutureWarning)\n"
          ],
          "name": "stderr"
        },
        {
          "output_type": "stream",
          "text": [
            "random forest ...\n",
            "xboost ...\n"
          ],
          "name": "stdout"
        }
      ]
    },
    {
      "cell_type": "code",
      "metadata": {
        "id": "5nG54XPmyz9p",
        "colab": {
          "base_uri": "https://localhost:8080/"
        },
        "outputId": "5bcf8d3e-cb57-437c-b26d-0d62c26d71c0"
      },
      "source": [
        "logs['lr-new-split-smote'], logs['rf-new-split-smote'], logs['xgb-new-split-smote'] = run_all_models(experimental_split_data, 'smote')"
      ],
      "execution_count": 112,
      "outputs": [
        {
          "output_type": "stream",
          "text": [
            "SMOTE...\n",
            "Before SMOTE:\n",
            "0    26981\n",
            "1     2913\n",
            "dtype: int64\n"
          ],
          "name": "stdout"
        },
        {
          "output_type": "stream",
          "text": [
            "/usr/local/lib/python3.7/dist-packages/sklearn/utils/deprecation.py:87: FutureWarning: Function safe_indexing is deprecated; safe_indexing is deprecated in version 0.22 and will be removed in version 0.24.\n",
            "  warnings.warn(msg, category=FutureWarning)\n"
          ],
          "name": "stderr"
        },
        {
          "output_type": "stream",
          "text": [
            "After SMOTE:\n",
            "1    26981\n",
            "0    26981\n",
            "dtype: int64\n",
            "linear regression ...\n",
            "random forest ...\n"
          ],
          "name": "stdout"
        },
        {
          "output_type": "stream",
          "text": [
            "/usr/local/lib/python3.7/dist-packages/sklearn/metrics/_classification.py:1515: UndefinedMetricWarning: F-score is ill-defined and being set to 0.0 due to no true nor predicted samples. Use `zero_division` parameter to control this behavior.\n",
            "  average, \"true nor predicted\", 'F-score is', len(true_sum)\n"
          ],
          "name": "stderr"
        },
        {
          "output_type": "stream",
          "text": [
            "xboost ...\n"
          ],
          "name": "stdout"
        }
      ]
    },
    {
      "cell_type": "code",
      "metadata": {
        "id": "bl3Q64LSCHiL",
        "colab": {
          "base_uri": "https://localhost:8080/",
          "height": 178
        },
        "outputId": "e93fb93f-a6c7-4cef-bec9-3dbca0e3c861"
      },
      "source": [
        "# labels = [\"lr-new-split\",\"rf-new-split\", \"xgb-new-split\", \"lr-new-split-smote\",\"rf-new-split-smote\", \"xgb-new-split-smote\", \"lr-new-split-smenn\",\"rf-new-split-smenn\", \"xgb-new-split-smenn\"]\n",
        "labels = [\"lr-new-split\",\"rf-new-split\", \"xgb-new-split\"]\n",
        "# illicit_count_ex\n",
        "plot(logs, labels, illicit_count_ex)"
      ],
      "execution_count": 150,
      "outputs": [
        {
          "output_type": "display_data",
          "data": {
            "image/png": "[encoded data removed]",
            "text/plain": [
              "<Figure size 1440x216 with 1 Axes>"
            ]
          },
          "metadata": {
            "tags": [],
            "needs_background": "light"
          }
        }
      ]
    },
    {
      "cell_type": "code",
      "metadata": {
        "id": "zkUHbduIvex1",
        "colab": {
          "base_uri": "https://localhost:8080/"
        },
        "outputId": "f530c8de-3c6a-431d-96cd-858a87f0046d"
      },
      "source": [
        "mean_scores = {}\n",
        "labels = [\"lr-new-split\",\"rf-new-split\", \"xgb-new-split\", \"lr-new-split-smote\",\"rf-new-split-smote\", \"xgb-new-split-smote\", \"lr-new-split-smenn\",\"rf-new-split-smenn\", \"xgb-new-split-smenn\"]\n",
        "# labels = [\"lr-new-split\",\"rf-new-split\", \"xgb-new-split\"] \n",
        "for label in labels:\n",
        "  print('{}: {}'.format(label, logs[label]['scores']))"
      ],
      "execution_count": 114,
      "outputs": [
        {
          "output_type": "stream",
          "text": [
            "lr-new-split: {'accuracy': 0.9618476304739052, 'f1': 0.7928338762214984, 'f1_micro': 0.9618476304739052, 'f1_macro': 0.8859114871692229, 'precision': 0.8463143254520167, 'recall': 0.7457107843137255}\n",
            "rf-new-split: {'accuracy': 0.9868026394721056, 'f1': 0.9283387622149836, 'f1_micro': 0.9868026394721056, 'f1_macro': 0.9605354200899827, 'precision': 0.9909596662030598, 'recall': 0.8731617647058824}\n",
            "xgb-new-split: {'accuracy': 0.9793641271745651, 'f1': 0.8927680798004988, 'f1_micro': 0.9793641271745651, 'f1_macro': 0.9406758227224982, 'precision': 0.9086294416243654, 'recall': 0.8774509803921569}\n",
            "lr-new-split-smote: {'accuracy': 0.8965206958608278, 'f1': 0.6369185434645337, 'f1_micro': 0.8965206958608278, 'f1_macro': 0.7882903256341172, 'precision': 0.4850913754408464, 'recall': 0.9270833333333334}\n",
            "rf-new-split-smote: {'accuracy': 0.9871025794841032, 'f1': 0.9313318428617056, 'f1_micro': 0.9871025794841032, 'f1_macro': 0.9621073792745418, 'precision': 0.9726484322881921, 'recall': 0.8933823529411765}\n",
            "xgb-new-split-smote: {'accuracy': 0.9736052789442111, 'f1': 0.8687350835322196, 'f1_micro': 0.9736052789442111, 'f1_macro': 0.9270312739256403, 'precision': 0.8465116279069768, 'recall': 0.8921568627450981}\n",
            "lr-new-split-smenn: {'accuracy': 0.8821835632873425, 'f1': 0.6095427435387675, 'f1_micro': 0.8821835632873425, 'f1_macro': 0.7700839821544068, 'precision': 0.4511477339611536, 'recall': 0.9393382352941176}\n",
            "rf-new-split-smenn: {'accuracy': 0.9862027594481104, 'f1': 0.9284380833851897, 'f1_micro': 0.9862027594481104, 'f1_macro': 0.9604017410220778, 'precision': 0.943109987357775, 'recall': 0.9142156862745098}\n",
            "xgb-new-split-smenn: {'accuracy': 0.9711457708458309, 'f1': 0.8605392867497824, 'f1_micro': 0.9711457708458309, 'f1_macro': 0.9222237432711811, 'precision': 0.8167308750687947, 'recall': 0.9093137254901961}\n"
          ],
          "name": "stdout"
        }
      ]
    }
  ]
}